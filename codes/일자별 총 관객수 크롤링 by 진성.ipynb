{
 "cells": [
  {
   "cell_type": "markdown",
   "id": "e85b410e",
   "metadata": {},
   "source": [
    "# READ ME\n",
    "\n",
    "- selenium을 활용하여 일자 별 총 관객수를 구하는 코드입니다.\n",
    "- 다운 받을 때 파일명이 동일합니다. 클릭을 누른 날을 기준으로 'KOBIS_총_관객수_및_매출액_일별_2023-04-07'와 같이 저장되는데요\n",
    "- 파일명이 동일하기 때문에 일자별로 구분을 해주어야 하는데, 사본 형식으로 저장이됩니다.\n",
    "    - KOBIS_총_관객수_및_매출액_일별_2023-04-07(1)\n",
    "    - KOBIS_총_관객수_및_매출액_일별_2023-04-07(2) \n",
    "- 따라서, 이를 구분해줄 필요가 있어, 저장 후 이름을 변경하여 새 경로로 이동하는 코드를 짜주었습니다.\n",
    "- 또한, xls파일로 저장이되어서, 이를 xlsx로 변환시켜주는 과정을 코드에 넣었습니다.\n",
    "----"
   ]
  },
  {
   "cell_type": "code",
   "execution_count": 1,
   "id": "632a7601",
   "metadata": {},
   "outputs": [
    {
     "name": "stdout",
     "output_type": "stream",
     "text": [
      "name 'shutil' is not defined\n",
      "Converting C:\\js_acorn\\Database\\pythonwork\\Analysis\\Movie_data_raw\\KOBIS_일자별_통계정보 2004년 10월.xls to C:\\js_acorn\\Database\\pythonwork\\Analysis\\Movie_data\\KOBIS_일자별_통계정보 2004년 10월.xlsx\n",
      "Conversion complete for C:\\js_acorn\\Database\\pythonwork\\Analysis\\Movie_data\\KOBIS_일자별_통계정보 2004년 10월.xlsx\n",
      "Converting C:\\js_acorn\\Database\\pythonwork\\Analysis\\Movie_data_raw\\KOBIS_일자별_통계정보 2004년 11월.xls to C:\\js_acorn\\Database\\pythonwork\\Analysis\\Movie_data\\KOBIS_일자별_통계정보 2004년 11월.xlsx\n",
      "Conversion complete for C:\\js_acorn\\Database\\pythonwork\\Analysis\\Movie_data\\KOBIS_일자별_통계정보 2004년 11월.xlsx\n",
      "Converting C:\\js_acorn\\Database\\pythonwork\\Analysis\\Movie_data_raw\\KOBIS_일자별_통계정보 2004년 12월.xls to C:\\js_acorn\\Database\\pythonwork\\Analysis\\Movie_data\\KOBIS_일자별_통계정보 2004년 12월.xlsx\n"
     ]
    },
    {
     "ename": "KeyboardInterrupt",
     "evalue": "",
     "output_type": "error",
     "traceback": [
      "\u001b[1;31m---------------------------------------------------------------------------\u001b[0m",
      "\u001b[1;31mKeyboardInterrupt\u001b[0m                         Traceback (most recent call last)",
      "Cell \u001b[1;32mIn[1], line 88\u001b[0m\n\u001b[0;32m     85\u001b[0m         output_file_path \u001b[38;5;241m=\u001b[39m os\u001b[38;5;241m.\u001b[39mpath\u001b[38;5;241m.\u001b[39mjoin(output_folder, output_file_name)\n\u001b[0;32m     87\u001b[0m         \u001b[38;5;28mprint\u001b[39m(\u001b[38;5;124mf\u001b[39m\u001b[38;5;124m\"\u001b[39m\u001b[38;5;124mConverting \u001b[39m\u001b[38;5;132;01m{\u001b[39;00minput_file_path\u001b[38;5;132;01m}\u001b[39;00m\u001b[38;5;124m to \u001b[39m\u001b[38;5;132;01m{\u001b[39;00moutput_file_path\u001b[38;5;132;01m}\u001b[39;00m\u001b[38;5;124m\"\u001b[39m)\n\u001b[1;32m---> 88\u001b[0m         \u001b[43mconvert_xls_to_xlsx\u001b[49m\u001b[43m(\u001b[49m\u001b[43minput_file_path\u001b[49m\u001b[43m,\u001b[49m\u001b[43m \u001b[49m\u001b[43moutput_file_path\u001b[49m\u001b[43m)\u001b[49m\n\u001b[0;32m     89\u001b[0m         \u001b[38;5;28mprint\u001b[39m(\u001b[38;5;124mf\u001b[39m\u001b[38;5;124m\"\u001b[39m\u001b[38;5;124mConversion complete for \u001b[39m\u001b[38;5;132;01m{\u001b[39;00moutput_file_path\u001b[38;5;132;01m}\u001b[39;00m\u001b[38;5;124m\"\u001b[39m)\n\u001b[0;32m     92\u001b[0m \u001b[38;5;66;03m#### 저장된 파일들을 df로 읽어오기. \u001b[39;00m\n",
      "\u001b[1;31mKeyboardInterrupt\u001b[0m: "
     ]
    }
   ],
   "source": [
    "import numpy as np\n",
    "import pandas as pd\n",
    "import matplotlib.pyplot as plt\n",
    "import seaborn as sns\n",
    "from bs4 import BeautifulSoup\n",
    "from selenium import webdriver\n",
    "from selenium.webdriver.common.by import By\n",
    "from selenium.webdriver.common.keys import Keys\n",
    "from webdriver_manager.chrome import ChromeDriverManager    # 매 번 크롬 드라이버를 설치할 필요없이 자동으로\n",
    "from selenium.webdriver.chrome.service import Service\n",
    "from selenium.webdriver.support.ui import WebDriverWait\n",
    "from selenium.webdriver.support import expected_conditions as EC\n",
    "from selenium.webdriver.common.alert import Alert\n",
    "from tqdm import tqdm_notebook\n",
    "from urllib.request import urlopen\n",
    "import time\n",
    "import requests\n",
    "\n",
    "driver = webdriver.Chrome(\"chromedriver\")\n",
    "driver.get(\"https://www.kobis.or.kr/kobis/business/stat/them/findDailyTotalList.do\")\n",
    "\n",
    "year_element = driver.find_element_by_id(\"selectYear\")\n",
    "month_element = driver.find_element_by_id(\"selectMonth\")\n",
    "\n",
    "# 2023년~2004 년은 option 태그로 묶여있기 때문에, Xpath로 접근 -> 2023년부터 2004년까지 총 option이 몇개 있는지 길이를 알기 위해 형성.\n",
    "year_range = year_element.find_elements_by_tag_name(\"option\")    \n",
    "month_range = month_element.find_elements_by_tag_name(\"option\")\n",
    "\n",
    "\n",
    "options = webdriver.ChromeOptions()\n",
    "\n",
    "\n",
    "try:\n",
    "    for i in range(1,len(year_range)+1):\n",
    "        search_xpath = '//*[@id=\"content\"]/div[3]/div/a'                                            # 엑셀 다운 받는 xpath\n",
    "        driver.find_element(By.XPATH, '//*[@id=\"selectYear\"]/option[{}]'.format(i)).click()         # 년 선택\n",
    "        for j in range(1,len(month_range)+1):\n",
    "            driver.find_element(By.XPATH, '//*[@id=\"selectMonth\"]/option[{}]'.format(j)).click()    # 월 선택\n",
    "            driver.find_element(By.CLASS_NAME, \"btn_blue\").click()                                  # 조회버튼 클릭\n",
    "            \n",
    "            driver.find_element(By.CLASS_NAME, \"btn_small\").click()                                 # 엑셀다운버튼 클릭.\n",
    "        \n",
    "            \n",
    "            file_name = \"{}년 {}월총 관객 수 .xls\".format(i,j)\n",
    "\n",
    "            search_element = WebDriverWait(driver, 10).until(\n",
    "            EC.presence_of_element_located((By.XPATH, search_xpath)))                               # 엑셀 다운 받고 대기\n",
    "            \n",
    "            \n",
    "            time.sleep(2)\n",
    "            \n",
    "            # 기존에 다운받아지는 폴더의 경로\n",
    "            file_path = 'C:\\\\Users\\\\user\\\\Downloads\\\\KOBIS_총_관객수_및_매출액_일별_2023-04-07.xls' \n",
    "            \n",
    "            # 파일의 이름 설정을 위한 코드\n",
    "            new_file_name = 'KOBIS_일자별_통계정보 {}년 {}월.xls'.format(2024-i,j)              \n",
    "            \n",
    "            # 다운 받은 파일들을 저장할 폴더\n",
    "            new_file_path = 'C:\\\\js_acorn\\\\Database\\\\pythonwork\\\\Analysis\\\\Movie_data_raw\\\\' + new_file_name \n",
    "\n",
    "            shutil.move(file_path, new_file_path)        # 다운받아진 폴더의 경로에서 내가 원하는 경로로 파일을 옮겨줌.\n",
    "        \n",
    "except Exception as e:\n",
    "    print(e)\n",
    "    \n",
    "\n",
    "import os\n",
    "import win32com.client as win32\n",
    "\n",
    "\n",
    "# xls 파일을 깨지지 않고 xlsx로 변환시키는 코드\n",
    "def convert_xls_to_xlsx(xls_file_path, xlsx_file_path):\n",
    "    excel = win32.Dispatch(\"Excel.Application\")\n",
    "    excel.DisplayAlerts = False\n",
    "    wb = excel.Workbooks.Open(xls_file_path)\n",
    "    wb.SaveAs(xlsx_file_path, FileFormat=51)  # FileFormat=51 corresponds to .xlsx\n",
    "    wb.Close()\n",
    "    excel.Quit()\n",
    "\n",
    "input_folder = 'C:\\\\js_acorn\\\\Database\\\\pythonwork\\\\Analysis\\\\Movie_data_raw'    # xls파일들이 모여있는 폴더의 경로를 지정해주세요.\n",
    "output_folder = 'C:\\\\js_acorn\\\\Database\\\\pythonwork\\\\Analysis\\\\Movie_data'       # xlsx로 변환된 파일이 저장될 경로를 지정해주세요.\n",
    "\n",
    "for file_name in os.listdir(input_folder):\n",
    "    if file_name.endswith('.xls'):\n",
    "        input_file_path = os.path.join(input_folder, file_name)\n",
    "        output_file_name = file_name.replace('.xls', '.xlsx')\n",
    "        output_file_path = os.path.join(output_folder, output_file_name)\n",
    "\n",
    "        print(f\"Converting {input_file_path} to {output_file_path}\")\n",
    "        convert_xls_to_xlsx(input_file_path, output_file_path)\n",
    "        print(f\"Conversion complete for {output_file_path}\")"
   ]
  },
  {
   "cell_type": "markdown",
   "id": "8ef0451e",
   "metadata": {},
   "source": [
    "# 저장된 파일들을 데이터 프레임으로 읽어줍니다."
   ]
  },
  {
   "cell_type": "code",
   "execution_count": 6,
   "id": "bd50dad1",
   "metadata": {
    "scrolled": true
   },
   "outputs": [
    {
     "name": "stderr",
     "output_type": "stream",
     "text": [
      "C:\\Users\\user\\AppData\\Local\\Temp\\ipykernel_15176\\2408246183.py:2: TqdmDeprecationWarning: This function will be removed in tqdm==5.0.0\n",
      "Please use `tqdm.notebook.tqdm` instead of `tqdm.tqdm_notebook`\n",
      "  for i in tqdm_notebook(range(2004,2024)):\n"
     ]
    },
    {
     "data": {
      "application/vnd.jupyter.widget-view+json": {
       "model_id": "feea4c0712db40b9add92480c4879cb2",
       "version_major": 2,
       "version_minor": 0
      },
      "text/plain": [
       "  0%|          | 0/20 [00:00<?, ?it/s]"
      ]
     },
     "metadata": {},
     "output_type": "display_data"
    },
    {
     "name": "stderr",
     "output_type": "stream",
     "text": [
      "C:\\Users\\user\\AppData\\Local\\Temp\\ipykernel_15176\\2408246183.py:12: TqdmDeprecationWarning: This function will be removed in tqdm==5.0.0\n",
      "Please use `tqdm.notebook.tqdm` instead of `tqdm.tqdm_notebook`\n",
      "  for df in tqdm_notebook(dfs):\n"
     ]
    },
    {
     "data": {
      "application/vnd.jupyter.widget-view+json": {
       "model_id": "4c3fbc9945814f1299b99a01e32726fa",
       "version_major": 2,
       "version_minor": 0
      },
      "text/plain": [
       "  0%|          | 0/240 [00:00<?, ?it/s]"
      ]
     },
     "metadata": {},
     "output_type": "display_data"
    }
   ],
   "source": [
    "#### 저장된 파일들을 df로 읽어오기. \n",
    "\n",
    "dfs = []      # dfs라는 빈 리스트를 만들어주고, 파일들을 불러와서 리스트에 추가\n",
    "for i in tqdm(range(2004,2024)): \n",
    "    for j in range(1,13):\n",
    "        movie_df = pd.read_excel('C:\\\\js_acorn\\\\Database\\\\pythonwork\\\\Analysis\\\\Movie_data\\\\KOBIS_일자별_통계정보 {}년 {}월.xlsx'.format(i,j),\n",
    "                                        sheet_name = 'KOBIS_일자별_통계정보 {}년 {}월'.format(i,j), \n",
    "                                        header = [4,5])\n",
    "        dfs.append(movie_df)\n",
    "\n",
    "#### 데이터 프레임의 컬럼들이 모두 같기 때문에, 행 방향으로 concat 해주기\n",
    "total_audience = pd.DataFrame()      \n",
    "\n",
    "for df in tqdm(dfs):\n",
    "    total_audience = pd.concat([total_audience, df],ignore_index=True)  # 인덱스 무시하고 합치기.\n",
    "    \n",
    "    \n",
    "total_audience.to_csv(\"./data/Total_audience.csv\", encoding=\"utf-8\")   # 완성된 데이터프레임을 csv파일로 저장. 경로 설정해주기.\n",
    "    \n"
   ]
  }
 ],
 "metadata": {
  "kernelspec": {
   "display_name": "Python 3 (ipykernel)",
   "language": "python",
   "name": "python3"
  },
  "language_info": {
   "codemirror_mode": {
    "name": "ipython",
    "version": 3
   },
   "file_extension": ".py",
   "mimetype": "text/x-python",
   "name": "python",
   "nbconvert_exporter": "python",
   "pygments_lexer": "ipython3",
   "version": "3.8.16"
  }
 },
 "nbformat": 4,
 "nbformat_minor": 5
}
