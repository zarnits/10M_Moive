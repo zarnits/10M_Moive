{
 "cells": [
  {
   "cell_type": "code",
   "execution_count": 2,
   "id": "c3075dd5",
   "metadata": {},
   "outputs": [],
   "source": [
    "import numpy as np\n",
    "import pandas as pd\n",
    "import matplotlib.pyplot as plt\n",
    "import seaborn as sns\n",
    "from bs4 import BeautifulSoup\n",
    "from selenium import webdriver\n",
    "from selenium.webdriver.common.by import By\n",
    "from selenium.webdriver.common.keys import Keys\n",
    "from webdriver_manager.chrome import ChromeDriverManager    \n",
    "from selenium.webdriver.chrome.service import Service\n",
    "from selenium.webdriver.support.ui import WebDriverWait\n",
    "from selenium.webdriver.support import expected_conditions as EC\n",
    "from selenium.webdriver.common.alert import Alert\n",
    "from tqdm import tqdm_notebook\n",
    "from urllib.request import urlopen\n",
    "import time\n",
    "import requests\n",
    "import os\n",
    "from glob import glob\n",
    "import shutil\n",
    "import matplotlib.font_manager as fm\n",
    "font_name = fm.FontProperties(fname=\"C:\\\\Windows\\\\Fonts\\\\malgun.ttf\").get_name()\n",
    "plt.rc(\"font\", family=font_name)\n",
    "\n",
    "import matplotlib as mlp\n",
    "mlp.rcParams[\"axes.unicode_minus\"] = False"
   ]
  },
  {
   "cell_type": "markdown",
   "id": "06c6eccd",
   "metadata": {},
   "source": [
    "전기간 관람객 수 개별 영화 관람객 수\n",
    "\n",
    "개봉 10일차까지 보이는 공통적인 패턴.\n",
    "\n",
    "총관람객수 추이와 개별 영화 추이의 관계 3.천만 영화 - 비천만영화\n",
    "\n",
    "개봉요일에 따른 차이\n",
    "\n",
    "천만영화 상영 중일 떄의 전체 관람객 수 - 아닐 떄의 전체 관람객 수\n",
    "\n",
    "연휴와의 관계\n",
    "\n",
    "연휴를 많이 포함하는 영화의 관람객 수\n",
    "날씨와 총관람객 수의 관계\n",
    "\n",
    "연휴, 주중/주말, 요일, 기온/강수량, 티켓 가격"
   ]
  },
  {
   "cell_type": "code",
   "execution_count": 3,
   "id": "d0ebc271",
   "metadata": {},
   "outputs": [],
   "source": [
    "# 전처리 "
   ]
  },
  {
   "cell_type": "code",
   "execution_count": 7,
   "id": "9595415d",
   "metadata": {},
   "outputs": [
    {
     "name": "stdout",
     "output_type": "stream",
     "text": [
      "<class 'pandas.core.frame.DataFrame'>\n",
      "RangeIndex: 7036 entries, 0 to 7035\n",
      "Data columns (total 4 columns):\n",
      " #   Column  Non-Null Count  Dtype         \n",
      "---  ------  --------------  -----         \n",
      " 0   일자      7036 non-null   datetime64[ns]\n",
      " 1   전체상영편수  7036 non-null   int64         \n",
      " 2   전체관객수   7036 non-null   int64         \n",
      " 3   요일      7036 non-null   object        \n",
      "dtypes: datetime64[ns](1), int64(2), object(1)\n",
      "memory usage: 220.0+ KB\n"
     ]
    },
    {
     "name": "stderr",
     "output_type": "stream",
     "text": [
      "C:\\Users\\acorn\\AppData\\Local\\Temp\\ipykernel_2524\\3973171098.py:4: SettingWithCopyWarning: \n",
      "A value is trying to be set on a copy of a slice from a DataFrame.\n",
      "Try using .loc[row_indexer,col_indexer] = value instead\n",
      "\n",
      "See the caveats in the documentation: https://pandas.pydata.org/pandas-docs/stable/user_guide/indexing.html#returning-a-view-versus-a-copy\n",
      "  daily_aud.loc[:, \"날짜\"] = pd.to_datetime(daily_aud[\"날짜\"], format=\"%Y-%m-%d %H:%M:%S\")\n"
     ]
    }
   ],
   "source": [
    "# 일자별 관람 통계\n",
    "daily_tot_movie_aud=pd.read_csv(\"../movie_DB/macro_envirment/audience1_preprocess1.csv\", \n",
    "                                usecols=lambda column: column != \"Unnamed: 0\" )\n",
    "daily_aud=daily_tot_movie_aud[[\"날짜\",\"전체상영편수\",\"전체관객수\",\"요일\"]]\n",
    "daily_aud.loc[:, \"날짜\"] = pd.to_datetime(daily_aud[\"날짜\"], format=\"%Y-%m-%d %H:%M:%S\")\n",
    "daily_aud.columns=[\"일자\",\"전체상영편수\",\"전체관객수\",\"요일\"]\n",
    "daily_aud.info()"
   ]
  },
  {
   "cell_type": "code",
   "execution_count": 20,
   "id": "337a497f",
   "metadata": {},
   "outputs": [],
   "source": [
    "# 개별 영화 통계를 Dict로\n",
    "csvs=glob(\"../movie_DB/individual_trend/*.csv\")\n",
    "movies = {}\n",
    "m_movies={}\n",
    "\n",
    "for file_path in csvs:\n",
    "    # Get the file name without the extension\n",
    "    file_name = os.path.splitext(os.path.basename(file_path))[0]\n",
    "    \n",
    "    movies[file_name] = pd.read_csv(file_path,usecols=lambda column: column != \"Unnamed: 0\")\n",
    "\n",
    "for name in movie_titles:\n",
    "    movies[f\"{name}\"]=movies[f\"{name}\"][[\"날짜\",\n",
    "                                         \"스크린수\",\"스크린점유율\",\n",
    "                                         \"관객수\",\"관객수증감(전일대비)\"]]\n",
    "    movies[name] = movies[name].rename(columns={\"날짜\": \"일자\"})\n",
    "    movies[f\"{name}\"][\"일자\"] = pd.to_datetime(movies[f\"{name}\"][\"일자\"], format=\"%Y-%m-%d\")\n",
    "    m_movies[f\"{name}\"]=pd.merge(movies[f\"{name}\"],daily_aud)"
   ]
  },
  {
   "cell_type": "code",
   "execution_count": 10,
   "id": "fcc4df5a",
   "metadata": {},
   "outputs": [
    {
     "name": "stdout",
     "output_type": "stream",
     "text": [
      "['1987', '7번방의 선물', '검사외전', '겨울왕국 2', '겨울왕국', '공조', '과속스캔들', '관상', '광해, 왕이 된 남자', '괴물', '국가대표', '국제시장', '극한직업', '기생충', '도둑들', '디워', '명량', '미션임파서블-고스트프로토콜', '밀정', '백두산', '범죄도시2', '베를린', '베테랑', '변호인', '보헤미안 랩소디', '부산행', '설국열차', '수상한 그녀', '스파이더맨- 노 웨이 홈', '스파이더맨- 파 프롬 홈', '스파이더맨- 홈 커밍', '신과함께-인과 연', '신과함께-죄와 벌', '실미도', '써니', '아바타- 물의 길', '아바타', '아이언맨 3', '알라딘', '암살', '어벤져스- 에이지 오브 울트론', '어벤져스- 엔드게임', '어벤져스- 인피니티 워', '엑시트', '왕의 남자', '인터스텔라', '최종병기 활', '캡틴 아메리카- 시빌 워', '탑건- 매버릭', '태극기 휘날리며', '택시운전사', '트랜스포머 3', '트랜스포머- 패자의 역습', '트랜스포머', '한산- 용의 출현', '해운대', '해적- 바다로 간 산적', '히말라야']\n"
     ]
    }
   ],
   "source": [
    "movie_titles = list(movies.keys())\n",
    "print(movie_titles)"
   ]
  },
  {
   "cell_type": "code",
   "execution_count": 21,
   "id": "f7c925af",
   "metadata": {},
   "outputs": [
    {
     "data": {
      "text/html": [
       "<div>\n",
       "<style scoped>\n",
       "    .dataframe tbody tr th:only-of-type {\n",
       "        vertical-align: middle;\n",
       "    }\n",
       "\n",
       "    .dataframe tbody tr th {\n",
       "        vertical-align: top;\n",
       "    }\n",
       "\n",
       "    .dataframe thead th {\n",
       "        text-align: right;\n",
       "    }\n",
       "</style>\n",
       "<table border=\"1\" class=\"dataframe\">\n",
       "  <thead>\n",
       "    <tr style=\"text-align: right;\">\n",
       "      <th></th>\n",
       "      <th>일자</th>\n",
       "      <th>스크린수</th>\n",
       "      <th>스크린점유율</th>\n",
       "      <th>관객수</th>\n",
       "      <th>관객수증감(전일대비)</th>\n",
       "      <th>전체상영편수</th>\n",
       "      <th>전체관객수</th>\n",
       "      <th>요일</th>\n",
       "    </tr>\n",
       "  </thead>\n",
       "  <tbody>\n",
       "    <tr>\n",
       "      <th>0</th>\n",
       "      <td>2014-01-16</td>\n",
       "      <td>676</td>\n",
       "      <td>0.149</td>\n",
       "      <td>160592</td>\n",
       "      <td>160295</td>\n",
       "      <td>78</td>\n",
       "      <td>441617</td>\n",
       "      <td>Thursday</td>\n",
       "    </tr>\n",
       "    <tr>\n",
       "      <th>1</th>\n",
       "      <td>2014-01-17</td>\n",
       "      <td>785</td>\n",
       "      <td>0.169</td>\n",
       "      <td>170315</td>\n",
       "      <td>9723</td>\n",
       "      <td>84</td>\n",
       "      <td>480260</td>\n",
       "      <td>Friday</td>\n",
       "    </tr>\n",
       "    <tr>\n",
       "      <th>2</th>\n",
       "      <td>2014-01-18</td>\n",
       "      <td>962</td>\n",
       "      <td>0.196</td>\n",
       "      <td>430189</td>\n",
       "      <td>259874</td>\n",
       "      <td>83</td>\n",
       "      <td>1063480</td>\n",
       "      <td>Saturday</td>\n",
       "    </tr>\n",
       "    <tr>\n",
       "      <th>3</th>\n",
       "      <td>2014-01-19</td>\n",
       "      <td>1010</td>\n",
       "      <td>0.207</td>\n",
       "      <td>435610</td>\n",
       "      <td>5421</td>\n",
       "      <td>76</td>\n",
       "      <td>1016808</td>\n",
       "      <td>Sunday</td>\n",
       "    </tr>\n",
       "    <tr>\n",
       "      <th>4</th>\n",
       "      <td>2014-01-20</td>\n",
       "      <td>801</td>\n",
       "      <td>0.183</td>\n",
       "      <td>157528</td>\n",
       "      <td>-278082</td>\n",
       "      <td>76</td>\n",
       "      <td>360895</td>\n",
       "      <td>Monday</td>\n",
       "    </tr>\n",
       "  </tbody>\n",
       "</table>\n",
       "</div>"
      ],
      "text/plain": [
       "          일자  스크린수  스크린점유율     관객수  관객수증감(전일대비)  전체상영편수    전체관객수        요일\n",
       "0 2014-01-16   676   0.149  160592       160295      78   441617  Thursday\n",
       "1 2014-01-17   785   0.169  170315         9723      84   480260    Friday\n",
       "2 2014-01-18   962   0.196  430189       259874      83  1063480  Saturday\n",
       "3 2014-01-19  1010   0.207  435610         5421      76  1016808    Sunday\n",
       "4 2014-01-20   801   0.183  157528      -278082      76   360895    Monday"
      ]
     },
     "execution_count": 21,
     "metadata": {},
     "output_type": "execute_result"
    }
   ],
   "source": [
    "m_movies[\"겨울왕국\"].head()"
   ]
  },
  {
   "cell_type": "code",
   "execution_count": null,
   "id": "98072f77",
   "metadata": {},
   "outputs": [],
   "source": [
    "#"
   ]
  }
 ],
 "metadata": {
  "kernelspec": {
   "display_name": "Python 3 (ipykernel)",
   "language": "python",
   "name": "python3"
  },
  "language_info": {
   "codemirror_mode": {
    "name": "ipython",
    "version": 3
   },
   "file_extension": ".py",
   "mimetype": "text/x-python",
   "name": "python",
   "nbconvert_exporter": "python",
   "pygments_lexer": "ipython3",
   "version": "3.9.13"
  }
 },
 "nbformat": 4,
 "nbformat_minor": 5
}
