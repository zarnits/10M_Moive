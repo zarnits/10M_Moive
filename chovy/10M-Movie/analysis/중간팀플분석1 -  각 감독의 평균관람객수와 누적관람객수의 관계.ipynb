{
 "cells": [
  {
   "cell_type": "code",
   "execution_count": 2,
   "id": "f94b8e66",
   "metadata": {},
   "outputs": [],
   "source": [
    "import numpy as np\n",
    "import pandas as pd"
   ]
  },
  {
   "cell_type": "markdown",
   "id": "4694ad7d",
   "metadata": {},
   "source": [
    "# 1. 각 감독의 평균관람객수와 영화관람객수의 관계를 구해보자"
   ]
  },
  {
   "cell_type": "code",
   "execution_count": 15,
   "id": "2964a83e",
   "metadata": {
    "scrolled": true
   },
   "outputs": [
    {
     "data": {
      "text/html": [
       "<div>\n",
       "<style scoped>\n",
       "    .dataframe tbody tr th:only-of-type {\n",
       "        vertical-align: middle;\n",
       "    }\n",
       "\n",
       "    .dataframe tbody tr th {\n",
       "        vertical-align: top;\n",
       "    }\n",
       "\n",
       "    .dataframe thead th {\n",
       "        text-align: right;\n",
       "    }\n",
       "</style>\n",
       "<table border=\"1\" class=\"dataframe\">\n",
       "  <thead>\n",
       "    <tr style=\"text-align: right;\">\n",
       "      <th></th>\n",
       "      <th>Title</th>\n",
       "      <th>Release</th>\n",
       "      <th>Genre</th>\n",
       "      <th>Age</th>\n",
       "      <th>Nation</th>\n",
       "      <th>Type</th>\n",
       "      <th>Director</th>\n",
       "      <th>Main_actor</th>\n",
       "      <th>Audi</th>\n",
       "    </tr>\n",
       "  </thead>\n",
       "  <tbody>\n",
       "    <tr>\n",
       "      <th>0</th>\n",
       "      <td>명량</td>\n",
       "      <td>2014-07-30</td>\n",
       "      <td>사극,액션</td>\n",
       "      <td>15세이상관람가</td>\n",
       "      <td>한국</td>\n",
       "      <td>필름,2D,4D</td>\n",
       "      <td>김한민</td>\n",
       "      <td>최민식,류승룡,조진웅</td>\n",
       "      <td>17615919</td>\n",
       "    </tr>\n",
       "    <tr>\n",
       "      <th>1</th>\n",
       "      <td>극한직업</td>\n",
       "      <td>2019-01-23</td>\n",
       "      <td>코미디</td>\n",
       "      <td>15세이상관람가</td>\n",
       "      <td>한국</td>\n",
       "      <td>2D</td>\n",
       "      <td>이병헌</td>\n",
       "      <td>류승룡,이하늬,진선규,이동휘,공명</td>\n",
       "      <td>16266338</td>\n",
       "    </tr>\n",
       "    <tr>\n",
       "      <th>2</th>\n",
       "      <td>신과함께-죄와 벌</td>\n",
       "      <td>2017-12-20</td>\n",
       "      <td>판타지,드라마</td>\n",
       "      <td>12세이상관람가</td>\n",
       "      <td>한국</td>\n",
       "      <td>2D,4D</td>\n",
       "      <td>김용화</td>\n",
       "      <td>하정우,차태현,주지훈,김향기,마동석</td>\n",
       "      <td>14414658</td>\n",
       "    </tr>\n",
       "    <tr>\n",
       "      <th>3</th>\n",
       "      <td>국제시장</td>\n",
       "      <td>2014-12-17</td>\n",
       "      <td>드라마</td>\n",
       "      <td>12세이상관람가</td>\n",
       "      <td>한국</td>\n",
       "      <td>필름,2D</td>\n",
       "      <td>윤제균</td>\n",
       "      <td>황정민,김윤진,오달수,정진영</td>\n",
       "      <td>14264478</td>\n",
       "    </tr>\n",
       "    <tr>\n",
       "      <th>4</th>\n",
       "      <td>어벤져스: 엔드게임</td>\n",
       "      <td>2019-04-24</td>\n",
       "      <td>액션,SF</td>\n",
       "      <td>12세이상관람가</td>\n",
       "      <td>미국</td>\n",
       "      <td>2D,3D,4D,IMAX</td>\n",
       "      <td>안소니 루소,조 루소</td>\n",
       "      <td>로버트 다우니 주니어,크리스 에반스,마크 러팔로,크리스 헴스워스,스칼렛 요한슨,제레...</td>\n",
       "      <td>13977602</td>\n",
       "    </tr>\n",
       "    <tr>\n",
       "      <th>...</th>\n",
       "      <td>...</td>\n",
       "      <td>...</td>\n",
       "      <td>...</td>\n",
       "      <td>...</td>\n",
       "      <td>...</td>\n",
       "      <td>...</td>\n",
       "      <td>...</td>\n",
       "      <td>...</td>\n",
       "      <td>...</td>\n",
       "    </tr>\n",
       "    <tr>\n",
       "      <th>197</th>\n",
       "      <td>해리 포터와 불의 잔</td>\n",
       "      <td>2005-12-01</td>\n",
       "      <td>액션,판타지</td>\n",
       "      <td>12세관람가</td>\n",
       "      <td>미국</td>\n",
       "      <td>필름,4D</td>\n",
       "      <td>마이크 뉴웰</td>\n",
       "      <td>다니엘 래드클리프,루퍼트 그린트,엠마 왓슨,랄프 파인즈</td>\n",
       "      <td>3499257</td>\n",
       "    </tr>\n",
       "    <tr>\n",
       "      <th>198</th>\n",
       "      <td>비긴 어게인</td>\n",
       "      <td>2014-08-13</td>\n",
       "      <td>멜로/로맨스</td>\n",
       "      <td>15세이상관람가</td>\n",
       "      <td>미국</td>\n",
       "      <td>필름,2D</td>\n",
       "      <td>존 카니</td>\n",
       "      <td>키이라 나이틀리,마크 러팔로,애덤 리바인,헤일리 스테인펠드,제임스 코든,캐서린 키너</td>\n",
       "      <td>3477672</td>\n",
       "    </tr>\n",
       "    <tr>\n",
       "      <th>199</th>\n",
       "      <td>태풍</td>\n",
       "      <td>2005-12-14</td>\n",
       "      <td>드라마,액션</td>\n",
       "      <td>15세관람가</td>\n",
       "      <td>한국</td>\n",
       "      <td>필름,2D</td>\n",
       "      <td>곽경택</td>\n",
       "      <td>이정재,이미연,장동건</td>\n",
       "      <td>3471150</td>\n",
       "    </tr>\n",
       "    <tr>\n",
       "      <th>200</th>\n",
       "      <td>킹콩</td>\n",
       "      <td>2005-12-14</td>\n",
       "      <td>드라마,어드벤처</td>\n",
       "      <td>15세관람가</td>\n",
       "      <td>미국</td>\n",
       "      <td>필름</td>\n",
       "      <td>피터 잭슨</td>\n",
       "      <td>잭 블랙,애드리언 브로디,나오미 왓츠</td>\n",
       "      <td>3470059</td>\n",
       "    </tr>\n",
       "    <tr>\n",
       "      <th>201</th>\n",
       "      <td>부러진 화살</td>\n",
       "      <td>2012-01-18</td>\n",
       "      <td>드라마</td>\n",
       "      <td>15세이상관람가</td>\n",
       "      <td>한국</td>\n",
       "      <td>필름,2D</td>\n",
       "      <td>정지영</td>\n",
       "      <td>안성기,박원상,나영희,김지호,신종훈</td>\n",
       "      <td>3460212</td>\n",
       "    </tr>\n",
       "  </tbody>\n",
       "</table>\n",
       "<p>202 rows × 9 columns</p>\n",
       "</div>"
      ],
      "text/plain": [
       "           Title     Release     Genre       Age Nation           Type  \\\n",
       "0             명량  2014-07-30     사극,액션  15세이상관람가     한국       필름,2D,4D   \n",
       "1           극한직업  2019-01-23       코미디  15세이상관람가     한국             2D   \n",
       "2      신과함께-죄와 벌  2017-12-20   판타지,드라마  12세이상관람가     한국          2D,4D   \n",
       "3           국제시장  2014-12-17       드라마  12세이상관람가     한국          필름,2D   \n",
       "4     어벤져스: 엔드게임  2019-04-24     액션,SF  12세이상관람가     미국  2D,3D,4D,IMAX   \n",
       "..           ...         ...       ...       ...    ...            ...   \n",
       "197  해리 포터와 불의 잔  2005-12-01    액션,판타지    12세관람가     미국          필름,4D   \n",
       "198       비긴 어게인  2014-08-13    멜로/로맨스  15세이상관람가     미국          필름,2D   \n",
       "199           태풍  2005-12-14    드라마,액션    15세관람가     한국          필름,2D   \n",
       "200           킹콩  2005-12-14  드라마,어드벤처    15세관람가     미국             필름   \n",
       "201       부러진 화살  2012-01-18       드라마  15세이상관람가     한국          필름,2D   \n",
       "\n",
       "        Director                                         Main_actor      Audi  \n",
       "0            김한민                                        최민식,류승룡,조진웅  17615919  \n",
       "1            이병헌                                 류승룡,이하늬,진선규,이동휘,공명  16266338  \n",
       "2            김용화                                하정우,차태현,주지훈,김향기,마동석  14414658  \n",
       "3            윤제균                                    황정민,김윤진,오달수,정진영  14264478  \n",
       "4    안소니 루소,조 루소  로버트 다우니 주니어,크리스 에반스,마크 러팔로,크리스 헴스워스,스칼렛 요한슨,제레...  13977602  \n",
       "..           ...                                                ...       ...  \n",
       "197       마이크 뉴웰                     다니엘 래드클리프,루퍼트 그린트,엠마 왓슨,랄프 파인즈   3499257  \n",
       "198         존 카니     키이라 나이틀리,마크 러팔로,애덤 리바인,헤일리 스테인펠드,제임스 코든,캐서린 키너   3477672  \n",
       "199          곽경택                                        이정재,이미연,장동건   3471150  \n",
       "200        피터 잭슨                               잭 블랙,애드리언 브로디,나오미 왓츠   3470059  \n",
       "201          정지영                                안성기,박원상,나영희,김지호,신종훈   3460212  \n",
       "\n",
       "[202 rows x 9 columns]"
      ]
     },
     "execution_count": 15,
     "metadata": {},
     "output_type": "execute_result"
    }
   ],
   "source": [
    "# 고은경씨가 올린 movie_info.csv # 2023-04-13 16:00 기준\n",
    "sample1 = pd.read_csv(\"C:\\\\kimhotak13\\\\Analysis\\\\movie_info.csv\")\n",
    "sample1"
   ]
  },
  {
   "cell_type": "code",
   "execution_count": null,
   "id": "5955bc28",
   "metadata": {},
   "outputs": [],
   "source": [
    "# 1. 감독이 한개 이상의 영화를 제작한 감독은 총 몇명인지?"
   ]
  },
  {
   "cell_type": "code",
   "execution_count": 21,
   "id": "c289d605",
   "metadata": {},
   "outputs": [
    {
     "data": {
      "text/plain": [
       "array(['김한민', '이병헌', '김용화', '윤제균', '안소니 루소,조 루소', '크리스 벅,제니퍼 리', '류승완',\n",
       "       '제임스 카메론', '최동훈', '이환경', '가이 리치', '이상용', '추창민', '장훈', '강제규', '연상호',\n",
       "       '양우석', '강우석', '봉준호', '이준익', '조스 웨던', '크리스토퍼 놀란', '브라이언 싱어', '이일형',\n",
       "       '이상근', '한재림', '쉐인 블랙', '이석훈', '황동혁', '이해준,김병서', '강형철', '조셉 코신스키',\n",
       "       '존 왓츠', '심형래', '김성훈', '마이클 베이', '브래드 버드', '김지운', '장준환', '조의석',\n",
       "       '우민호', '이재한', '이계벽', '장철수', '강윤성', '나홍진', '김지훈', '조성희',\n",
       "       '크리스토퍼 맥쿼리', '박광현', '이정범', '매튜 본', '김학순', '톰 후퍼', '샘 레이미',\n",
       "       '애너 보든,라이언 플렉', '후안 안토니오 바요나', '김주환', '허정', '허진호', '김병우',\n",
       "       '콜린 트레보로우', '조의석,김병서', '페이튼 리드', '스콧 데릭슨', '장재현', '김광식', '라이언 쿠글러',\n",
       "       '롤랜드 에머리히', '이한', '이재규', '토드 필립스', '마크 포스터', '빌 콘돈', 'J.J. 에이브럼스',\n",
       "       '김동원', '여인영', '이해영', '제임스 완', '윤종빈', '피트 닥터', '김주호', '리들리 스콧',\n",
       "       '타이카 와이티티', '마크 웹', '진모영', '원신연', '김석윤', '존 파브로', '바이론 하워드,리치 무어',\n",
       "       '더그 라이만', '박훈정', '데이빗 예이츠', '마크 오스본,존 스티븐슨', '민규동', '박정우',\n",
       "       '필리다 로이드', '손용호', '고어 버빈스키', '정용기', '맥지', '이노우에 다케히코', '홍원찬',\n",
       "       '이정재', '박찬욱', '숀 레비', '정윤철', '이용주', '스티븐 스필버그', '롭 코헨', '신태라',\n",
       "       '임순례', '장창원', '맷 리브스', '여인영,알레산드로 칼로니', '조 루소,안소니 루소', '신카이 마코토',\n",
       "       '조지 밀러', '조진규', '루벤 플레셔', '김태균', '데이빗 레이치', '데이미언 셔젤', '최국희', '유하',\n",
       "       '김유진', '알렉스 커츠먼', '김도영', 'F. 게리 그레이', '낸시 마이어스', '조정래', '조범구',\n",
       "       '리 언크리치', '마이크 뉴웰', '존 카니', '곽경택', '피터 잭슨', '정지영'], dtype=object)"
      ]
     },
     "execution_count": 21,
     "metadata": {},
     "output_type": "execute_result"
    }
   ],
   "source": [
    "sample1['Director'].unique()"
   ]
  },
  {
   "cell_type": "code",
   "execution_count": 27,
   "id": "eba1329e",
   "metadata": {},
   "outputs": [
    {
     "data": {
      "text/plain": [
       "김용화         4\n",
       "이석훈         4\n",
       "마이클 베이      4\n",
       "류승완         4\n",
       "크리스토퍼 놀란    4\n",
       "           ..\n",
       "조의석,김병서     1\n",
       "콜린 트레보로우    1\n",
       "김병우         1\n",
       "허진호         1\n",
       "정지영         1\n",
       "Name: Director, Length: 138, dtype: int64"
      ]
     },
     "execution_count": 27,
     "metadata": {},
     "output_type": "execute_result"
    }
   ],
   "source": [
    "sample1['Director'].value_counts()"
   ]
  },
  {
   "cell_type": "code",
   "execution_count": null,
   "id": "2a7229c9",
   "metadata": {},
   "outputs": [],
   "source": [
    "# 2. 각 감독들이 촬영한 영화의 개수는 몇개인지?(movie_info.csv기준)"
   ]
  },
  {
   "cell_type": "code",
   "execution_count": 24,
   "id": "441eecbd",
   "metadata": {},
   "outputs": [
    {
     "data": {
      "text/plain": [
       "김용화         4\n",
       "이석훈         4\n",
       "마이클 베이      4\n",
       "류승완         4\n",
       "크리스토퍼 놀란    4\n",
       "           ..\n",
       "조의석,김병서     1\n",
       "콜린 트레보로우    1\n",
       "김병우         1\n",
       "허진호         1\n",
       "정지영         1\n",
       "Name: Director, Length: 138, dtype: int64"
      ]
     },
     "execution_count": 24,
     "metadata": {},
     "output_type": "execute_result"
    }
   ],
   "source": [
    "sample1['Director'].value_counts()"
   ]
  },
  {
   "cell_type": "code",
   "execution_count": null,
   "id": "9ce08d16",
   "metadata": {},
   "outputs": [],
   "source": [
    "# 3. 각 감독들이 제작한 영화들의 평균 관람객수는 몇명인지?\n",
    "#(+ 각 영화별 최종관람객수 병합 필요)"
   ]
  },
  {
   "cell_type": "code",
   "execution_count": null,
   "id": "7b47e1bd",
   "metadata": {},
   "outputs": [],
   "source": []
  },
  {
   "cell_type": "code",
   "execution_count": null,
   "id": "6809f0a4",
   "metadata": {},
   "outputs": [],
   "source": [
    "# 4. 3에서 구한 감독들의 평균 관람객수는 영화의 최종관람객수와 관계가 있는지?"
   ]
  },
  {
   "cell_type": "code",
   "execution_count": null,
   "id": "e2ad9bed",
   "metadata": {},
   "outputs": [],
   "source": []
  },
  {
   "cell_type": "code",
   "execution_count": null,
   "id": "41fb4d76",
   "metadata": {},
   "outputs": [],
   "source": []
  },
  {
   "cell_type": "code",
   "execution_count": null,
   "id": "75e469ef",
   "metadata": {},
   "outputs": [],
   "source": []
  },
  {
   "cell_type": "code",
   "execution_count": null,
   "id": "b1a0e157",
   "metadata": {},
   "outputs": [],
   "source": []
  },
  {
   "cell_type": "code",
   "execution_count": null,
   "id": "c524b659",
   "metadata": {},
   "outputs": [],
   "source": []
  },
  {
   "cell_type": "code",
   "execution_count": null,
   "id": "47b4a7fa",
   "metadata": {},
   "outputs": [],
   "source": []
  },
  {
   "cell_type": "code",
   "execution_count": null,
   "id": "7e389e37",
   "metadata": {},
   "outputs": [],
   "source": []
  },
  {
   "cell_type": "code",
   "execution_count": null,
   "id": "9acf9b96",
   "metadata": {},
   "outputs": [],
   "source": []
  }
 ],
 "metadata": {
  "kernelspec": {
   "display_name": "Python 3 (ipykernel)",
   "language": "python",
   "name": "python3"
  },
  "language_info": {
   "codemirror_mode": {
    "name": "ipython",
    "version": 3
   },
   "file_extension": ".py",
   "mimetype": "text/x-python",
   "name": "python",
   "nbconvert_exporter": "python",
   "pygments_lexer": "ipython3",
   "version": "3.9.13"
  }
 },
 "nbformat": 4,
 "nbformat_minor": 5
}
