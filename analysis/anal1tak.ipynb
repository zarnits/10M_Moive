{
 "cells": [
  {
   "cell_type": "code",
   "execution_count": 1,
   "id": "f94b8e66",
   "metadata": {},
   "outputs": [],
   "source": [
    "import numpy as np\n",
    "import pandas as pd"
   ]
  },
  {
   "cell_type": "markdown",
   "id": "4694ad7d",
   "metadata": {},
   "source": [
    "# 1. 각 감독의 평균관람객수와 영화관람객수의 관계를 구해보자"
   ]
  },
  {
   "cell_type": "code",
   "execution_count": 4,
   "id": "2964a83e",
   "metadata": {
    "scrolled": true
   },
   "outputs": [
    {
     "data": {
      "text/html": [
       "<div>\n",
       "<style scoped>\n",
       "    .dataframe tbody tr th:only-of-type {\n",
       "        vertical-align: middle;\n",
       "    }\n",
       "\n",
       "    .dataframe tbody tr th {\n",
       "        vertical-align: top;\n",
       "    }\n",
       "\n",
       "    .dataframe thead th {\n",
       "        text-align: right;\n",
       "    }\n",
       "</style>\n",
       "<table border=\"1\" class=\"dataframe\">\n",
       "  <thead>\n",
       "    <tr style=\"text-align: right;\">\n",
       "      <th></th>\n",
       "      <th>Title</th>\n",
       "      <th>Release</th>\n",
       "      <th>Genre</th>\n",
       "      <th>Age</th>\n",
       "      <th>Nation</th>\n",
       "      <th>Type</th>\n",
       "      <th>Director</th>\n",
       "      <th>Main_actor</th>\n",
       "      <th>Audi</th>\n",
       "    </tr>\n",
       "  </thead>\n",
       "  <tbody>\n",
       "    <tr>\n",
       "      <th>0</th>\n",
       "      <td>명량</td>\n",
       "      <td>2014-07-30</td>\n",
       "      <td>사극,액션</td>\n",
       "      <td>15세이상관람가</td>\n",
       "      <td>한국</td>\n",
       "      <td>필름,2D,4D</td>\n",
       "      <td>김한민</td>\n",
       "      <td>최민식,류승룡,조진웅</td>\n",
       "      <td>17615919</td>\n",
       "    </tr>\n",
       "    <tr>\n",
       "      <th>1</th>\n",
       "      <td>극한직업</td>\n",
       "      <td>2019-01-23</td>\n",
       "      <td>코미디</td>\n",
       "      <td>15세이상관람가</td>\n",
       "      <td>한국</td>\n",
       "      <td>2D</td>\n",
       "      <td>이병헌</td>\n",
       "      <td>류승룡,이하늬,진선규,이동휘,공명</td>\n",
       "      <td>16266338</td>\n",
       "    </tr>\n",
       "    <tr>\n",
       "      <th>2</th>\n",
       "      <td>신과함께-죄와 벌</td>\n",
       "      <td>2017-12-20</td>\n",
       "      <td>판타지,드라마</td>\n",
       "      <td>12세이상관람가</td>\n",
       "      <td>한국</td>\n",
       "      <td>2D,4D</td>\n",
       "      <td>김용화</td>\n",
       "      <td>하정우,차태현,주지훈,김향기,마동석</td>\n",
       "      <td>14414658</td>\n",
       "    </tr>\n",
       "    <tr>\n",
       "      <th>3</th>\n",
       "      <td>국제시장</td>\n",
       "      <td>2014-12-17</td>\n",
       "      <td>드라마</td>\n",
       "      <td>12세이상관람가</td>\n",
       "      <td>한국</td>\n",
       "      <td>필름,2D</td>\n",
       "      <td>윤제균</td>\n",
       "      <td>황정민,김윤진,오달수,정진영</td>\n",
       "      <td>14264478</td>\n",
       "    </tr>\n",
       "    <tr>\n",
       "      <th>4</th>\n",
       "      <td>어벤져스: 엔드게임</td>\n",
       "      <td>2019-04-24</td>\n",
       "      <td>액션,SF</td>\n",
       "      <td>12세이상관람가</td>\n",
       "      <td>미국</td>\n",
       "      <td>2D,3D,4D,IMAX</td>\n",
       "      <td>안소니 루소,조 루소</td>\n",
       "      <td>로버트 다우니 주니어,크리스 에반스,마크 러팔로,크리스 헴스워스,스칼렛 요한슨,제레...</td>\n",
       "      <td>13977602</td>\n",
       "    </tr>\n",
       "    <tr>\n",
       "      <th>...</th>\n",
       "      <td>...</td>\n",
       "      <td>...</td>\n",
       "      <td>...</td>\n",
       "      <td>...</td>\n",
       "      <td>...</td>\n",
       "      <td>...</td>\n",
       "      <td>...</td>\n",
       "      <td>...</td>\n",
       "      <td>...</td>\n",
       "    </tr>\n",
       "    <tr>\n",
       "      <th>197</th>\n",
       "      <td>해리 포터와 불의 잔</td>\n",
       "      <td>2005-12-01</td>\n",
       "      <td>액션,판타지</td>\n",
       "      <td>12세관람가</td>\n",
       "      <td>미국</td>\n",
       "      <td>필름,4D</td>\n",
       "      <td>마이크 뉴웰</td>\n",
       "      <td>다니엘 래드클리프,루퍼트 그린트,엠마 왓슨,랄프 파인즈</td>\n",
       "      <td>3499257</td>\n",
       "    </tr>\n",
       "    <tr>\n",
       "      <th>198</th>\n",
       "      <td>비긴 어게인</td>\n",
       "      <td>2014-08-13</td>\n",
       "      <td>멜로/로맨스</td>\n",
       "      <td>15세이상관람가</td>\n",
       "      <td>미국</td>\n",
       "      <td>필름,2D</td>\n",
       "      <td>존 카니</td>\n",
       "      <td>키이라 나이틀리,마크 러팔로,애덤 리바인,헤일리 스테인펠드,제임스 코든,캐서린 키너</td>\n",
       "      <td>3477672</td>\n",
       "    </tr>\n",
       "    <tr>\n",
       "      <th>199</th>\n",
       "      <td>태풍</td>\n",
       "      <td>2005-12-14</td>\n",
       "      <td>드라마,액션</td>\n",
       "      <td>15세관람가</td>\n",
       "      <td>한국</td>\n",
       "      <td>필름,2D</td>\n",
       "      <td>곽경택</td>\n",
       "      <td>이정재,이미연,장동건</td>\n",
       "      <td>3471150</td>\n",
       "    </tr>\n",
       "    <tr>\n",
       "      <th>200</th>\n",
       "      <td>킹콩</td>\n",
       "      <td>2005-12-14</td>\n",
       "      <td>드라마,어드벤처</td>\n",
       "      <td>15세관람가</td>\n",
       "      <td>미국</td>\n",
       "      <td>필름</td>\n",
       "      <td>피터 잭슨</td>\n",
       "      <td>잭 블랙,애드리언 브로디,나오미 왓츠</td>\n",
       "      <td>3470059</td>\n",
       "    </tr>\n",
       "    <tr>\n",
       "      <th>201</th>\n",
       "      <td>부러진 화살</td>\n",
       "      <td>2012-01-18</td>\n",
       "      <td>드라마</td>\n",
       "      <td>15세이상관람가</td>\n",
       "      <td>한국</td>\n",
       "      <td>필름,2D</td>\n",
       "      <td>정지영</td>\n",
       "      <td>안성기,박원상,나영희,김지호,신종훈</td>\n",
       "      <td>3460212</td>\n",
       "    </tr>\n",
       "  </tbody>\n",
       "</table>\n",
       "<p>202 rows × 9 columns</p>\n",
       "</div>"
      ],
      "text/plain": [
       "           Title     Release     Genre       Age Nation           Type  \\\n",
       "0             명량  2014-07-30     사극,액션  15세이상관람가     한국       필름,2D,4D   \n",
       "1           극한직업  2019-01-23       코미디  15세이상관람가     한국             2D   \n",
       "2      신과함께-죄와 벌  2017-12-20   판타지,드라마  12세이상관람가     한국          2D,4D   \n",
       "3           국제시장  2014-12-17       드라마  12세이상관람가     한국          필름,2D   \n",
       "4     어벤져스: 엔드게임  2019-04-24     액션,SF  12세이상관람가     미국  2D,3D,4D,IMAX   \n",
       "..           ...         ...       ...       ...    ...            ...   \n",
       "197  해리 포터와 불의 잔  2005-12-01    액션,판타지    12세관람가     미국          필름,4D   \n",
       "198       비긴 어게인  2014-08-13    멜로/로맨스  15세이상관람가     미국          필름,2D   \n",
       "199           태풍  2005-12-14    드라마,액션    15세관람가     한국          필름,2D   \n",
       "200           킹콩  2005-12-14  드라마,어드벤처    15세관람가     미국             필름   \n",
       "201       부러진 화살  2012-01-18       드라마  15세이상관람가     한국          필름,2D   \n",
       "\n",
       "        Director                                         Main_actor      Audi  \n",
       "0            김한민                                        최민식,류승룡,조진웅  17615919  \n",
       "1            이병헌                                 류승룡,이하늬,진선규,이동휘,공명  16266338  \n",
       "2            김용화                                하정우,차태현,주지훈,김향기,마동석  14414658  \n",
       "3            윤제균                                    황정민,김윤진,오달수,정진영  14264478  \n",
       "4    안소니 루소,조 루소  로버트 다우니 주니어,크리스 에반스,마크 러팔로,크리스 헴스워스,스칼렛 요한슨,제레...  13977602  \n",
       "..           ...                                                ...       ...  \n",
       "197       마이크 뉴웰                     다니엘 래드클리프,루퍼트 그린트,엠마 왓슨,랄프 파인즈   3499257  \n",
       "198         존 카니     키이라 나이틀리,마크 러팔로,애덤 리바인,헤일리 스테인펠드,제임스 코든,캐서린 키너   3477672  \n",
       "199          곽경택                                        이정재,이미연,장동건   3471150  \n",
       "200        피터 잭슨                               잭 블랙,애드리언 브로디,나오미 왓츠   3470059  \n",
       "201          정지영                                안성기,박원상,나영희,김지호,신종훈   3460212  \n",
       "\n",
       "[202 rows x 9 columns]"
      ]
     },
     "execution_count": 4,
     "metadata": {},
     "output_type": "execute_result"
    }
   ],
   "source": [
    "# 고은경씨가 올린 movie_info.csv # 2023-04-13 16:00 기준\n",
    "sample1 = pd.read_csv(\"C:\\\\Users\\\\admin\\\\gitmiddle\\\\10M_Movie\\\\movie_DB\\\\individual_movie\\\\movie_info_final.csv\")\n",
    "sample1"
   ]
  },
  {
   "cell_type": "code",
   "execution_count": null,
   "id": "5955bc28",
   "metadata": {},
   "outputs": [],
   "source": [
    "# 1. 감독이 한개 이상의 영화를 제작한 감독은 총 몇명인지?"
   ]
  },
  {
   "cell_type": "code",
   "execution_count": 5,
   "id": "c289d605",
   "metadata": {},
   "outputs": [
    {
     "data": {
      "text/plain": [
       "array(['김한민', '이병헌', '김용화', '윤제균', '안소니 루소,조 루소', '크리스 벅,제니퍼 리', '류승완',\n",
       "       '제임스 카메론', '최동훈', '이환경', '가이 리치', '이상용', '추창민', '장훈', '강제규', '연상호',\n",
       "       '양우석', '강우석', '봉준호', '이준익', '조스 웨던', '크리스토퍼 놀란', '브라이언 싱어', '이일형',\n",
       "       '이상근', '한재림', '쉐인 블랙', '이석훈', '황동혁', '이해준,김병서', '강형철', '조셉 코신스키',\n",
       "       '존 왓츠', '심형래', '김성훈', '마이클 베이', '브래드 버드', '김지운', '장준환', '조의석',\n",
       "       '우민호', '이재한', '이계벽', '장철수', '강윤성', '나홍진', '김지훈', '조성희',\n",
       "       '크리스토퍼 맥쿼리', '박광현', '이정범', '매튜 본', '김학순', '톰 후퍼', '샘 레이미',\n",
       "       '애너 보든,라이언 플렉', '후안 안토니오 바요나', '김주환', '허정', '허진호', '김병우',\n",
       "       '콜린 트레보로우', '조의석,김병서', '페이튼 리드', '스콧 데릭슨', '장재현', '김광식', '라이언 쿠글러',\n",
       "       '롤랜드 에머리히', '이한', '이재규', '토드 필립스', '마크 포스터', '빌 콘돈', 'J.J. 에이브럼스',\n",
       "       '김동원', '여인영', '이해영', '제임스 완', '윤종빈', '피트 닥터', '김주호', '리들리 스콧',\n",
       "       '타이카 와이티티', '마크 웹', '진모영', '원신연', '김석윤', '존 파브로', '바이론 하워드,리치 무어',\n",
       "       '더그 라이만', '박훈정', '데이빗 예이츠', '마크 오스본,존 스티븐슨', '민규동', '박정우',\n",
       "       '필리다 로이드', '손용호', '고어 버빈스키', '정용기', '맥지', '이노우에 다케히코', '홍원찬',\n",
       "       '이정재', '박찬욱', '숀 레비', '정윤철', '이용주', '스티븐 스필버그', '롭 코헨', '신태라',\n",
       "       '임순례', '장창원', '맷 리브스', '여인영,알레산드로 칼로니', '조 루소,안소니 루소', '신카이 마코토',\n",
       "       '조지 밀러', '조진규', '루벤 플레셔', '김태균', '데이빗 레이치', '데이미언 셔젤', '최국희', '유하',\n",
       "       '김유진', '알렉스 커츠먼', '김도영', 'F. 게리 그레이', '낸시 마이어스', '조정래', '조범구',\n",
       "       '리 언크리치', '마이크 뉴웰', '존 카니', '곽경택', '피터 잭슨', '정지영'], dtype=object)"
      ]
     },
     "execution_count": 5,
     "metadata": {},
     "output_type": "execute_result"
    }
   ],
   "source": [
    "sample1['Director'].unique()"
   ]
  },
  {
   "cell_type": "code",
   "execution_count": 27,
   "id": "eba1329e",
   "metadata": {},
   "outputs": [
    {
     "data": {
      "text/plain": [
       "김용화         4\n",
       "이석훈         4\n",
       "마이클 베이      4\n",
       "류승완         4\n",
       "크리스토퍼 놀란    4\n",
       "           ..\n",
       "조의석,김병서     1\n",
       "콜린 트레보로우    1\n",
       "김병우         1\n",
       "허진호         1\n",
       "정지영         1\n",
       "Name: Director, Length: 138, dtype: int64"
      ]
     },
     "execution_count": 27,
     "metadata": {},
     "output_type": "execute_result"
    }
   ],
   "source": [
    "sample1['Director'].value_counts()"
   ]
  },
  {
   "cell_type": "code",
   "execution_count": 6,
   "id": "9b19d890",
   "metadata": {},
   "outputs": [],
   "source": [
    "# 안소니 루소, 조 루소 + 조 루소, 안소니 루소 기재순서처리"
   ]
  },
  {
   "cell_type": "code",
   "execution_count": null,
   "id": "bd51d4e0",
   "metadata": {},
   "outputs": [],
   "source": []
  },
  {
   "cell_type": "code",
   "execution_count": 9,
   "id": "7bdcaadd",
   "metadata": {},
   "outputs": [
    {
     "data": {
      "text/plain": [
       "array(['김한민', '이병헌', '김용화', '윤제균', '안소니 루소,조 루소', '크리스 벅,제니퍼 리', '류승완',\n",
       "       '제임스 카메론', '최동훈', '이환경', '가이 리치', '이상용', '추창민', '장훈', '강제규', '연상호',\n",
       "       '양우석', '강우석', '봉준호', '이준익', '조스 웨던', '크리스토퍼 놀란', '브라이언 싱어', '이일형',\n",
       "       '이상근', '한재림', '쉐인 블랙', '이석훈', '황동혁', '이해준,김병서', '강형철', '조셉 코신스키',\n",
       "       '존 왓츠', '심형래', '김성훈', '마이클 베이', '브래드 버드', '김지운', '장준환', '조의석',\n",
       "       '우민호', '이재한', '이계벽', '장철수', '강윤성', '나홍진', '김지훈', '조성희',\n",
       "       '크리스토퍼 맥쿼리', '박광현', '이정범', '매튜 본', '김학순', '톰 후퍼', '샘 레이미',\n",
       "       '애너 보든,라이언 플렉', '후안 안토니오 바요나', '김주환', '허정', '허진호', '김병우',\n",
       "       '콜린 트레보로우', '조의석,김병서', '페이튼 리드', '스콧 데릭슨', '장재현', '김광식', '라이언 쿠글러',\n",
       "       '롤랜드 에머리히', '이한', '이재규', '토드 필립스', '마크 포스터', '빌 콘돈', 'J.J. 에이브럼스',\n",
       "       '김동원', '여인영', '이해영', '제임스 완', '윤종빈', '피트 닥터', '김주호', '리들리 스콧',\n",
       "       '타이카 와이티티', '마크 웹', '진모영', '원신연', '김석윤', '존 파브로', '바이론 하워드,리치 무어',\n",
       "       '더그 라이만', '박훈정', '데이빗 예이츠', '마크 오스본,존 스티븐슨', '민규동', '박정우',\n",
       "       '필리다 로이드', '손용호', '고어 버빈스키', '정용기', '맥지', '이노우에 다케히코', '홍원찬',\n",
       "       '이정재', '박찬욱', '숀 레비', '정윤철', '이용주', '스티븐 스필버그', '롭 코헨', '신태라',\n",
       "       '임순례', '장창원', '맷 리브스', '여인영,알레산드로 칼로니', '조 루소,안소니 루소', '신카이 마코토',\n",
       "       '조지 밀러', '조진규', '루벤 플레셔', '김태균', '데이빗 레이치', '데이미언 셔젤', '최국희', '유하',\n",
       "       '김유진', '알렉스 커츠먼', '김도영', 'F. 게리 그레이', '낸시 마이어스', '조정래', '조범구',\n",
       "       '리 언크리치', '마이크 뉴웰', '존 카니', '곽경택', '피터 잭슨', '정지영'], dtype=object)"
      ]
     },
     "execution_count": 9,
     "metadata": {},
     "output_type": "execute_result"
    }
   ],
   "source": [
    "director_unique = sample1['Director'].unique()\n",
    "director_unique"
   ]
  },
  {
   "cell_type": "code",
   "execution_count": 10,
   "id": "0dc2f56d",
   "metadata": {},
   "outputs": [
    {
     "data": {
      "text/plain": [
       "138"
      ]
     },
     "execution_count": 10,
     "metadata": {},
     "output_type": "execute_result"
    }
   ],
   "source": [
    "director_count = len(director_unique)\n",
    "director_count"
   ]
  },
  {
   "cell_type": "code",
   "execution_count": 11,
   "id": "de24fea5",
   "metadata": {},
   "outputs": [
    {
     "data": {
      "text/html": [
       "<div>\n",
       "<style scoped>\n",
       "    .dataframe tbody tr th:only-of-type {\n",
       "        vertical-align: middle;\n",
       "    }\n",
       "\n",
       "    .dataframe tbody tr th {\n",
       "        vertical-align: top;\n",
       "    }\n",
       "\n",
       "    .dataframe thead th {\n",
       "        text-align: right;\n",
       "    }\n",
       "</style>\n",
       "<table border=\"1\" class=\"dataframe\">\n",
       "  <thead>\n",
       "    <tr style=\"text-align: right;\">\n",
       "      <th></th>\n",
       "      <th>Title</th>\n",
       "      <th>Release</th>\n",
       "      <th>Genre</th>\n",
       "      <th>Age</th>\n",
       "      <th>Nation</th>\n",
       "      <th>Type</th>\n",
       "      <th>Director</th>\n",
       "      <th>Main_actor</th>\n",
       "      <th>Audi</th>\n",
       "    </tr>\n",
       "  </thead>\n",
       "  <tbody>\n",
       "    <tr>\n",
       "      <th>4</th>\n",
       "      <td>어벤져스: 엔드게임</td>\n",
       "      <td>2019-04-24</td>\n",
       "      <td>액션,SF</td>\n",
       "      <td>12세이상관람가</td>\n",
       "      <td>미국</td>\n",
       "      <td>2D,3D,4D,IMAX</td>\n",
       "      <td>안소니 루소,조 루소</td>\n",
       "      <td>로버트 다우니 주니어,크리스 에반스,마크 러팔로,크리스 헴스워스,스칼렛 요한슨,제레...</td>\n",
       "      <td>13977602</td>\n",
       "    </tr>\n",
       "    <tr>\n",
       "      <th>20</th>\n",
       "      <td>어벤져스: 인피니티 워</td>\n",
       "      <td>2018-04-25</td>\n",
       "      <td>액션,어드벤처,판타지,SF</td>\n",
       "      <td>12세이상관람가</td>\n",
       "      <td>미국</td>\n",
       "      <td>2D,3D,4D,IMAX</td>\n",
       "      <td>안소니 루소,조 루소</td>\n",
       "      <td>로버트 다우니 주니어,조슈 브롤린,마크 러팔로,톰 히들스턴,크리스 에반스,크리스 헴...</td>\n",
       "      <td>11233176</td>\n",
       "    </tr>\n",
       "    <tr>\n",
       "      <th>35</th>\n",
       "      <td>캡틴 아메리카: 시빌 워</td>\n",
       "      <td>2016-04-27</td>\n",
       "      <td>액션,SF,스릴러</td>\n",
       "      <td>12세이상관람가</td>\n",
       "      <td>미국</td>\n",
       "      <td>2D,3D,4D,IMAX</td>\n",
       "      <td>안소니 루소,조 루소</td>\n",
       "      <td>크리스 에반스,로버트 다우니 주니어,스칼렛 요한슨,세바스찬 스탠,안소니 마키,돈 치...</td>\n",
       "      <td>8678761</td>\n",
       "    </tr>\n",
       "  </tbody>\n",
       "</table>\n",
       "</div>"
      ],
      "text/plain": [
       "            Title     Release           Genre       Age Nation           Type  \\\n",
       "4      어벤져스: 엔드게임  2019-04-24           액션,SF  12세이상관람가     미국  2D,3D,4D,IMAX   \n",
       "20   어벤져스: 인피니티 워  2018-04-25  액션,어드벤처,판타지,SF  12세이상관람가     미국  2D,3D,4D,IMAX   \n",
       "35  캡틴 아메리카: 시빌 워  2016-04-27       액션,SF,스릴러  12세이상관람가     미국  2D,3D,4D,IMAX   \n",
       "\n",
       "       Director                                         Main_actor      Audi  \n",
       "4   안소니 루소,조 루소  로버트 다우니 주니어,크리스 에반스,마크 러팔로,크리스 헴스워스,스칼렛 요한슨,제레...  13977602  \n",
       "20  안소니 루소,조 루소  로버트 다우니 주니어,조슈 브롤린,마크 러팔로,톰 히들스턴,크리스 에반스,크리스 헴...  11233176  \n",
       "35  안소니 루소,조 루소  크리스 에반스,로버트 다우니 주니어,스칼렛 요한슨,세바스찬 스탠,안소니 마키,돈 치...   8678761  "
      ]
     },
     "execution_count": 11,
     "metadata": {},
     "output_type": "execute_result"
    }
   ],
   "source": [
    "sample1[sample1['Director'] == \"안소니 루소,조 루소\"]"
   ]
  },
  {
   "cell_type": "code",
   "execution_count": 12,
   "id": "c536379a",
   "metadata": {},
   "outputs": [
    {
     "data": {
      "text/html": [
       "<div>\n",
       "<style scoped>\n",
       "    .dataframe tbody tr th:only-of-type {\n",
       "        vertical-align: middle;\n",
       "    }\n",
       "\n",
       "    .dataframe tbody tr th {\n",
       "        vertical-align: top;\n",
       "    }\n",
       "\n",
       "    .dataframe thead th {\n",
       "        text-align: right;\n",
       "    }\n",
       "</style>\n",
       "<table border=\"1\" class=\"dataframe\">\n",
       "  <thead>\n",
       "    <tr style=\"text-align: right;\">\n",
       "      <th></th>\n",
       "      <th>Title</th>\n",
       "      <th>Release</th>\n",
       "      <th>Genre</th>\n",
       "      <th>Age</th>\n",
       "      <th>Nation</th>\n",
       "      <th>Type</th>\n",
       "      <th>Director</th>\n",
       "      <th>Main_actor</th>\n",
       "      <th>Audi</th>\n",
       "    </tr>\n",
       "  </thead>\n",
       "  <tbody>\n",
       "    <tr>\n",
       "      <th>169</th>\n",
       "      <td>캡틴 아메리카: 윈터 솔져</td>\n",
       "      <td>2014-03-26</td>\n",
       "      <td>액션,어드벤처,SF</td>\n",
       "      <td>15세이상관람가</td>\n",
       "      <td>미국</td>\n",
       "      <td>필름,2D,3D,4D,IMAX</td>\n",
       "      <td>조 루소,안소니 루소</td>\n",
       "      <td>크리스 에반스,스칼렛 요한슨,사무엘 L. 잭슨,로버트 레드포드</td>\n",
       "      <td>3984814</td>\n",
       "    </tr>\n",
       "  </tbody>\n",
       "</table>\n",
       "</div>"
      ],
      "text/plain": [
       "              Title     Release       Genre       Age Nation  \\\n",
       "169  캡틴 아메리카: 윈터 솔져  2014-03-26  액션,어드벤처,SF  15세이상관람가     미국   \n",
       "\n",
       "                 Type     Director                          Main_actor  \\\n",
       "169  필름,2D,3D,4D,IMAX  조 루소,안소니 루소  크리스 에반스,스칼렛 요한슨,사무엘 L. 잭슨,로버트 레드포드   \n",
       "\n",
       "        Audi  \n",
       "169  3984814  "
      ]
     },
     "execution_count": 12,
     "metadata": {},
     "output_type": "execute_result"
    }
   ],
   "source": [
    "sample1[sample1['Director'] == \"조 루소,안소니 루소\"]"
   ]
  },
  {
   "cell_type": "code",
   "execution_count": 14,
   "id": "35a3d72b",
   "metadata": {},
   "outputs": [
    {
     "name": "stderr",
     "output_type": "stream",
     "text": [
      "C:\\Users\\admin\\AppData\\Local\\Temp\\ipykernel_17852\\2222316257.py:1: SettingWithCopyWarning: \n",
      "A value is trying to be set on a copy of a slice from a DataFrame\n",
      "\n",
      "See the caveats in the documentation: https://pandas.pydata.org/pandas-docs/stable/user_guide/indexing.html#returning-a-view-versus-a-copy\n",
      "  sample1[\"Director\"][169] = \"안소니 루소,조 루소\"\n"
     ]
    }
   ],
   "source": [
    "sample1[\"Director\"][169] = \"안소니 루소,조 루소\""
   ]
  },
  {
   "cell_type": "code",
   "execution_count": 15,
   "id": "eaeaa8dc",
   "metadata": {},
   "outputs": [
    {
     "data": {
      "text/html": [
       "<div>\n",
       "<style scoped>\n",
       "    .dataframe tbody tr th:only-of-type {\n",
       "        vertical-align: middle;\n",
       "    }\n",
       "\n",
       "    .dataframe tbody tr th {\n",
       "        vertical-align: top;\n",
       "    }\n",
       "\n",
       "    .dataframe thead th {\n",
       "        text-align: right;\n",
       "    }\n",
       "</style>\n",
       "<table border=\"1\" class=\"dataframe\">\n",
       "  <thead>\n",
       "    <tr style=\"text-align: right;\">\n",
       "      <th></th>\n",
       "      <th>Title</th>\n",
       "      <th>Release</th>\n",
       "      <th>Genre</th>\n",
       "      <th>Age</th>\n",
       "      <th>Nation</th>\n",
       "      <th>Type</th>\n",
       "      <th>Director</th>\n",
       "      <th>Main_actor</th>\n",
       "      <th>Audi</th>\n",
       "    </tr>\n",
       "  </thead>\n",
       "  <tbody>\n",
       "    <tr>\n",
       "      <th>4</th>\n",
       "      <td>어벤져스: 엔드게임</td>\n",
       "      <td>2019-04-24</td>\n",
       "      <td>액션,SF</td>\n",
       "      <td>12세이상관람가</td>\n",
       "      <td>미국</td>\n",
       "      <td>2D,3D,4D,IMAX</td>\n",
       "      <td>안소니 루소,조 루소</td>\n",
       "      <td>로버트 다우니 주니어,크리스 에반스,마크 러팔로,크리스 헴스워스,스칼렛 요한슨,제레...</td>\n",
       "      <td>13977602</td>\n",
       "    </tr>\n",
       "    <tr>\n",
       "      <th>20</th>\n",
       "      <td>어벤져스: 인피니티 워</td>\n",
       "      <td>2018-04-25</td>\n",
       "      <td>액션,어드벤처,판타지,SF</td>\n",
       "      <td>12세이상관람가</td>\n",
       "      <td>미국</td>\n",
       "      <td>2D,3D,4D,IMAX</td>\n",
       "      <td>안소니 루소,조 루소</td>\n",
       "      <td>로버트 다우니 주니어,조슈 브롤린,마크 러팔로,톰 히들스턴,크리스 에반스,크리스 헴...</td>\n",
       "      <td>11233176</td>\n",
       "    </tr>\n",
       "    <tr>\n",
       "      <th>35</th>\n",
       "      <td>캡틴 아메리카: 시빌 워</td>\n",
       "      <td>2016-04-27</td>\n",
       "      <td>액션,SF,스릴러</td>\n",
       "      <td>12세이상관람가</td>\n",
       "      <td>미국</td>\n",
       "      <td>2D,3D,4D,IMAX</td>\n",
       "      <td>안소니 루소,조 루소</td>\n",
       "      <td>크리스 에반스,로버트 다우니 주니어,스칼렛 요한슨,세바스찬 스탠,안소니 마키,돈 치...</td>\n",
       "      <td>8678761</td>\n",
       "    </tr>\n",
       "    <tr>\n",
       "      <th>169</th>\n",
       "      <td>캡틴 아메리카: 윈터 솔져</td>\n",
       "      <td>2014-03-26</td>\n",
       "      <td>액션,어드벤처,SF</td>\n",
       "      <td>15세이상관람가</td>\n",
       "      <td>미국</td>\n",
       "      <td>필름,2D,3D,4D,IMAX</td>\n",
       "      <td>안소니 루소,조 루소</td>\n",
       "      <td>크리스 에반스,스칼렛 요한슨,사무엘 L. 잭슨,로버트 레드포드</td>\n",
       "      <td>3984814</td>\n",
       "    </tr>\n",
       "  </tbody>\n",
       "</table>\n",
       "</div>"
      ],
      "text/plain": [
       "              Title     Release           Genre       Age Nation  \\\n",
       "4        어벤져스: 엔드게임  2019-04-24           액션,SF  12세이상관람가     미국   \n",
       "20     어벤져스: 인피니티 워  2018-04-25  액션,어드벤처,판타지,SF  12세이상관람가     미국   \n",
       "35    캡틴 아메리카: 시빌 워  2016-04-27       액션,SF,스릴러  12세이상관람가     미국   \n",
       "169  캡틴 아메리카: 윈터 솔져  2014-03-26      액션,어드벤처,SF  15세이상관람가     미국   \n",
       "\n",
       "                 Type     Director  \\\n",
       "4       2D,3D,4D,IMAX  안소니 루소,조 루소   \n",
       "20      2D,3D,4D,IMAX  안소니 루소,조 루소   \n",
       "35      2D,3D,4D,IMAX  안소니 루소,조 루소   \n",
       "169  필름,2D,3D,4D,IMAX  안소니 루소,조 루소   \n",
       "\n",
       "                                            Main_actor      Audi  \n",
       "4    로버트 다우니 주니어,크리스 에반스,마크 러팔로,크리스 헴스워스,스칼렛 요한슨,제레...  13977602  \n",
       "20   로버트 다우니 주니어,조슈 브롤린,마크 러팔로,톰 히들스턴,크리스 에반스,크리스 헴...  11233176  \n",
       "35   크리스 에반스,로버트 다우니 주니어,스칼렛 요한슨,세바스찬 스탠,안소니 마키,돈 치...   8678761  \n",
       "169                 크리스 에반스,스칼렛 요한슨,사무엘 L. 잭슨,로버트 레드포드   3984814  "
      ]
     },
     "execution_count": 15,
     "metadata": {},
     "output_type": "execute_result"
    }
   ],
   "source": [
    "sample1[sample1['Director'] == \"안소니 루소,조 루소\"]"
   ]
  },
  {
   "cell_type": "code",
   "execution_count": 18,
   "id": "d1f4701c",
   "metadata": {},
   "outputs": [
    {
     "data": {
      "text/plain": [
       "김용화            4\n",
       "안소니 루소,조 루소    4\n",
       "이석훈            4\n",
       "류승완            4\n",
       "마이클 베이         4\n",
       "              ..\n",
       "콜린 트레보로우       1\n",
       "김병우            1\n",
       "허진호            1\n",
       "허정             1\n",
       "정지영            1\n",
       "Name: Director, Length: 137, dtype: int64"
      ]
     },
     "execution_count": 18,
     "metadata": {},
     "output_type": "execute_result"
    }
   ],
   "source": [
    "sample1['Director'].value_counts()"
   ]
  },
  {
   "cell_type": "code",
   "execution_count": null,
   "id": "39d09330",
   "metadata": {},
   "outputs": [],
   "source": []
  },
  {
   "cell_type": "code",
   "execution_count": null,
   "id": "49a2a773",
   "metadata": {},
   "outputs": [],
   "source": []
  },
  {
   "cell_type": "code",
   "execution_count": null,
   "id": "d44ea251",
   "metadata": {},
   "outputs": [],
   "source": []
  },
  {
   "cell_type": "markdown",
   "id": "4a068873",
   "metadata": {},
   "source": [
    "# 2. 각 감독들이 촬영한 영화의 개수는 몇개인지?(movie_info.csv기준)"
   ]
  },
  {
   "cell_type": "code",
   "execution_count": 24,
   "id": "441eecbd",
   "metadata": {},
   "outputs": [
    {
     "data": {
      "text/plain": [
       "김용화         4\n",
       "이석훈         4\n",
       "마이클 베이      4\n",
       "류승완         4\n",
       "크리스토퍼 놀란    4\n",
       "           ..\n",
       "조의석,김병서     1\n",
       "콜린 트레보로우    1\n",
       "김병우         1\n",
       "허진호         1\n",
       "정지영         1\n",
       "Name: Director, Length: 138, dtype: int64"
      ]
     },
     "execution_count": 24,
     "metadata": {},
     "output_type": "execute_result"
    }
   ],
   "source": [
    "sample1['Director'].value_counts() # 안토니 루소, 조 루소 수정전"
   ]
  },
  {
   "cell_type": "code",
   "execution_count": 19,
   "id": "37775df0",
   "metadata": {
    "scrolled": true
   },
   "outputs": [
    {
     "data": {
      "text/plain": [
       "김용화            4\n",
       "안소니 루소,조 루소    4\n",
       "이석훈            4\n",
       "류승완            4\n",
       "마이클 베이         4\n",
       "              ..\n",
       "콜린 트레보로우       1\n",
       "김병우            1\n",
       "허진호            1\n",
       "허정             1\n",
       "정지영            1\n",
       "Name: Director, Length: 137, dtype: int64"
      ]
     },
     "execution_count": 19,
     "metadata": {},
     "output_type": "execute_result"
    }
   ],
   "source": [
    "sample1['Director'].value_counts() # 안토리 루소, 조 루소 수정후"
   ]
  },
  {
   "cell_type": "code",
   "execution_count": 32,
   "id": "8869aeba",
   "metadata": {},
   "outputs": [
    {
     "data": {
      "text/plain": [
       "김용화            4\n",
       "안소니 루소,조 루소    4\n",
       "이석훈            4\n",
       "류승완            4\n",
       "마이클 베이         4\n",
       "              ..\n",
       "콜린 트레보로우       1\n",
       "김병우            1\n",
       "허진호            1\n",
       "허정             1\n",
       "정지영            1\n",
       "Name: Director, Length: 137, dtype: int64"
      ]
     },
     "execution_count": 32,
     "metadata": {},
     "output_type": "execute_result"
    }
   ],
   "source": [
    "director_making_count = sample1['Director'].value_counts()\n",
    "director_making_count"
   ]
  },
  {
   "cell_type": "code",
   "execution_count": 17,
   "id": "0702ab55",
   "metadata": {},
   "outputs": [
    {
     "data": {
      "text/plain": [
       "138"
      ]
     },
     "execution_count": 17,
     "metadata": {},
     "output_type": "execute_result"
    }
   ],
   "source": [
    "director_count"
   ]
  },
  {
   "cell_type": "code",
   "execution_count": null,
   "id": "1a2580cb",
   "metadata": {},
   "outputs": [],
   "source": []
  },
  {
   "cell_type": "markdown",
   "id": "4a81917d",
   "metadata": {},
   "source": [
    "# 3. 각 감독들이 제작한 영화들의 평균 관람객수는 몇명인지?\n",
    "- (+ 각 영화별 최종관람객수 병합 필요) "
   ]
  },
  {
   "cell_type": "code",
   "execution_count": 22,
   "id": "7b47e1bd",
   "metadata": {},
   "outputs": [
    {
     "data": {
      "text/html": [
       "<div>\n",
       "<style scoped>\n",
       "    .dataframe tbody tr th:only-of-type {\n",
       "        vertical-align: middle;\n",
       "    }\n",
       "\n",
       "    .dataframe tbody tr th {\n",
       "        vertical-align: top;\n",
       "    }\n",
       "\n",
       "    .dataframe thead th {\n",
       "        text-align: right;\n",
       "    }\n",
       "</style>\n",
       "<table border=\"1\" class=\"dataframe\">\n",
       "  <thead>\n",
       "    <tr style=\"text-align: right;\">\n",
       "      <th></th>\n",
       "      <th>Audi</th>\n",
       "    </tr>\n",
       "    <tr>\n",
       "      <th>Director</th>\n",
       "      <th></th>\n",
       "    </tr>\n",
       "  </thead>\n",
       "  <tbody>\n",
       "    <tr>\n",
       "      <th>F. 게리 그레이</th>\n",
       "      <td>3.659683e+06</td>\n",
       "    </tr>\n",
       "    <tr>\n",
       "      <th>J.J. 에이브럼스</th>\n",
       "      <td>5.127047e+06</td>\n",
       "    </tr>\n",
       "    <tr>\n",
       "      <th>가이 리치</th>\n",
       "      <td>1.279793e+07</td>\n",
       "    </tr>\n",
       "    <tr>\n",
       "      <th>강우석</th>\n",
       "      <td>7.697436e+06</td>\n",
       "    </tr>\n",
       "    <tr>\n",
       "      <th>강윤성</th>\n",
       "      <td>6.880546e+06</td>\n",
       "    </tr>\n",
       "    <tr>\n",
       "      <th>...</th>\n",
       "      <td>...</td>\n",
       "    </tr>\n",
       "    <tr>\n",
       "      <th>허정</th>\n",
       "      <td>5.604106e+06</td>\n",
       "    </tr>\n",
       "    <tr>\n",
       "      <th>허진호</th>\n",
       "      <td>5.599995e+06</td>\n",
       "    </tr>\n",
       "    <tr>\n",
       "      <th>홍원찬</th>\n",
       "      <td>4.421210e+06</td>\n",
       "    </tr>\n",
       "    <tr>\n",
       "      <th>황동혁</th>\n",
       "      <td>5.724285e+06</td>\n",
       "    </tr>\n",
       "    <tr>\n",
       "      <th>후안 안토니오 바요나</th>\n",
       "      <td>5.661128e+06</td>\n",
       "    </tr>\n",
       "  </tbody>\n",
       "</table>\n",
       "<p>137 rows × 1 columns</p>\n",
       "</div>"
      ],
      "text/plain": [
       "                     Audi\n",
       "Director                 \n",
       "F. 게리 그레이    3.659683e+06\n",
       "J.J. 에이브럼스   5.127047e+06\n",
       "가이 리치        1.279793e+07\n",
       "강우석          7.697436e+06\n",
       "강윤성          6.880546e+06\n",
       "...                   ...\n",
       "허정           5.604106e+06\n",
       "허진호          5.599995e+06\n",
       "홍원찬          4.421210e+06\n",
       "황동혁          5.724285e+06\n",
       "후안 안토니오 바요나  5.661128e+06\n",
       "\n",
       "[137 rows x 1 columns]"
      ]
     },
     "execution_count": 22,
     "metadata": {},
     "output_type": "execute_result"
    }
   ],
   "source": [
    "director_audi_avg = sample1.groupby(by=\"Director\").mean()\n",
    "director_audi_avg"
   ]
  },
  {
   "cell_type": "code",
   "execution_count": 23,
   "id": "4d7ca0dd",
   "metadata": {},
   "outputs": [],
   "source": [
    "director_audi_avg[\"Audi\"] = director_audi_avg[\"Audi\"].astype(int)"
   ]
  },
  {
   "cell_type": "code",
   "execution_count": 24,
   "id": "cac10465",
   "metadata": {},
   "outputs": [
    {
     "data": {
      "text/html": [
       "<div>\n",
       "<style scoped>\n",
       "    .dataframe tbody tr th:only-of-type {\n",
       "        vertical-align: middle;\n",
       "    }\n",
       "\n",
       "    .dataframe tbody tr th {\n",
       "        vertical-align: top;\n",
       "    }\n",
       "\n",
       "    .dataframe thead th {\n",
       "        text-align: right;\n",
       "    }\n",
       "</style>\n",
       "<table border=\"1\" class=\"dataframe\">\n",
       "  <thead>\n",
       "    <tr style=\"text-align: right;\">\n",
       "      <th></th>\n",
       "      <th>Audi</th>\n",
       "    </tr>\n",
       "    <tr>\n",
       "      <th>Director</th>\n",
       "      <th></th>\n",
       "    </tr>\n",
       "  </thead>\n",
       "  <tbody>\n",
       "    <tr>\n",
       "      <th>F. 게리 그레이</th>\n",
       "      <td>3659683</td>\n",
       "    </tr>\n",
       "    <tr>\n",
       "      <th>J.J. 에이브럼스</th>\n",
       "      <td>5127047</td>\n",
       "    </tr>\n",
       "    <tr>\n",
       "      <th>가이 리치</th>\n",
       "      <td>12797927</td>\n",
       "    </tr>\n",
       "    <tr>\n",
       "      <th>강우석</th>\n",
       "      <td>7697435</td>\n",
       "    </tr>\n",
       "    <tr>\n",
       "      <th>강윤성</th>\n",
       "      <td>6880546</td>\n",
       "    </tr>\n",
       "    <tr>\n",
       "      <th>...</th>\n",
       "      <td>...</td>\n",
       "    </tr>\n",
       "    <tr>\n",
       "      <th>허정</th>\n",
       "      <td>5604106</td>\n",
       "    </tr>\n",
       "    <tr>\n",
       "      <th>허진호</th>\n",
       "      <td>5599995</td>\n",
       "    </tr>\n",
       "    <tr>\n",
       "      <th>홍원찬</th>\n",
       "      <td>4421210</td>\n",
       "    </tr>\n",
       "    <tr>\n",
       "      <th>황동혁</th>\n",
       "      <td>5724285</td>\n",
       "    </tr>\n",
       "    <tr>\n",
       "      <th>후안 안토니오 바요나</th>\n",
       "      <td>5661128</td>\n",
       "    </tr>\n",
       "  </tbody>\n",
       "</table>\n",
       "<p>137 rows × 1 columns</p>\n",
       "</div>"
      ],
      "text/plain": [
       "                 Audi\n",
       "Director             \n",
       "F. 게리 그레이     3659683\n",
       "J.J. 에이브럼스    5127047\n",
       "가이 리치        12797927\n",
       "강우석           7697435\n",
       "강윤성           6880546\n",
       "...               ...\n",
       "허정            5604106\n",
       "허진호           5599995\n",
       "홍원찬           4421210\n",
       "황동혁           5724285\n",
       "후안 안토니오 바요나   5661128\n",
       "\n",
       "[137 rows x 1 columns]"
      ]
     },
     "execution_count": 24,
     "metadata": {},
     "output_type": "execute_result"
    }
   ],
   "source": [
    "director_audi_avg # 감독당 평균 관람객수"
   ]
  },
  {
   "cell_type": "code",
   "execution_count": 27,
   "id": "adaca3cd",
   "metadata": {},
   "outputs": [
    {
     "data": {
      "text/html": [
       "<div>\n",
       "<style scoped>\n",
       "    .dataframe tbody tr th:only-of-type {\n",
       "        vertical-align: middle;\n",
       "    }\n",
       "\n",
       "    .dataframe tbody tr th {\n",
       "        vertical-align: top;\n",
       "    }\n",
       "\n",
       "    .dataframe thead th {\n",
       "        text-align: right;\n",
       "    }\n",
       "</style>\n",
       "<table border=\"1\" class=\"dataframe\">\n",
       "  <thead>\n",
       "    <tr style=\"text-align: right;\">\n",
       "      <th></th>\n",
       "      <th>Audi</th>\n",
       "    </tr>\n",
       "    <tr>\n",
       "      <th>Director</th>\n",
       "      <th></th>\n",
       "    </tr>\n",
       "  </thead>\n",
       "  <tbody>\n",
       "    <tr>\n",
       "      <th>이병헌</th>\n",
       "      <td>16266338</td>\n",
       "    </tr>\n",
       "    <tr>\n",
       "      <th>이환경</th>\n",
       "      <td>12812144</td>\n",
       "    </tr>\n",
       "    <tr>\n",
       "      <th>가이 리치</th>\n",
       "      <td>12797927</td>\n",
       "    </tr>\n",
       "    <tr>\n",
       "      <th>윤제균</th>\n",
       "      <td>12794797</td>\n",
       "    </tr>\n",
       "    <tr>\n",
       "      <th>이상용</th>\n",
       "      <td>12693415</td>\n",
       "    </tr>\n",
       "    <tr>\n",
       "      <th>...</th>\n",
       "      <td>...</td>\n",
       "    </tr>\n",
       "    <tr>\n",
       "      <th>마이크 뉴웰</th>\n",
       "      <td>3499257</td>\n",
       "    </tr>\n",
       "    <tr>\n",
       "      <th>존 카니</th>\n",
       "      <td>3477672</td>\n",
       "    </tr>\n",
       "    <tr>\n",
       "      <th>곽경택</th>\n",
       "      <td>3471150</td>\n",
       "    </tr>\n",
       "    <tr>\n",
       "      <th>피터 잭슨</th>\n",
       "      <td>3470059</td>\n",
       "    </tr>\n",
       "    <tr>\n",
       "      <th>정지영</th>\n",
       "      <td>3460212</td>\n",
       "    </tr>\n",
       "  </tbody>\n",
       "</table>\n",
       "<p>137 rows × 1 columns</p>\n",
       "</div>"
      ],
      "text/plain": [
       "              Audi\n",
       "Director          \n",
       "이병헌       16266338\n",
       "이환경       12812144\n",
       "가이 리치     12797927\n",
       "윤제균       12794797\n",
       "이상용       12693415\n",
       "...            ...\n",
       "마이크 뉴웰     3499257\n",
       "존 카니       3477672\n",
       "곽경택        3471150\n",
       "피터 잭슨      3470059\n",
       "정지영        3460212\n",
       "\n",
       "[137 rows x 1 columns]"
      ]
     },
     "execution_count": 27,
     "metadata": {},
     "output_type": "execute_result"
    }
   ],
   "source": [
    "director_audi_avg = director_audi_avg.sort_values(\"Audi\", ascending=False)\n",
    "director_audi_avg"
   ]
  },
  {
   "cell_type": "code",
   "execution_count": 30,
   "id": "a59b1df0",
   "metadata": {},
   "outputs": [
    {
     "data": {
      "text/html": [
       "<div>\n",
       "<style scoped>\n",
       "    .dataframe tbody tr th:only-of-type {\n",
       "        vertical-align: middle;\n",
       "    }\n",
       "\n",
       "    .dataframe tbody tr th {\n",
       "        vertical-align: top;\n",
       "    }\n",
       "\n",
       "    .dataframe thead th {\n",
       "        text-align: right;\n",
       "    }\n",
       "</style>\n",
       "<table border=\"1\" class=\"dataframe\">\n",
       "  <thead>\n",
       "    <tr style=\"text-align: right;\">\n",
       "      <th></th>\n",
       "      <th>Title</th>\n",
       "      <th>Release</th>\n",
       "      <th>Genre</th>\n",
       "      <th>Age</th>\n",
       "      <th>Nation</th>\n",
       "      <th>Type</th>\n",
       "      <th>Director</th>\n",
       "      <th>Main_actor</th>\n",
       "      <th>Audi</th>\n",
       "    </tr>\n",
       "  </thead>\n",
       "  <tbody>\n",
       "    <tr>\n",
       "      <th>0</th>\n",
       "      <td>명량</td>\n",
       "      <td>2014-07-30</td>\n",
       "      <td>사극,액션</td>\n",
       "      <td>15세이상관람가</td>\n",
       "      <td>한국</td>\n",
       "      <td>필름,2D,4D</td>\n",
       "      <td>김한민</td>\n",
       "      <td>최민식,류승룡,조진웅</td>\n",
       "      <td>17615919</td>\n",
       "    </tr>\n",
       "    <tr>\n",
       "      <th>1</th>\n",
       "      <td>극한직업</td>\n",
       "      <td>2019-01-23</td>\n",
       "      <td>코미디</td>\n",
       "      <td>15세이상관람가</td>\n",
       "      <td>한국</td>\n",
       "      <td>2D</td>\n",
       "      <td>이병헌</td>\n",
       "      <td>류승룡,이하늬,진선규,이동휘,공명</td>\n",
       "      <td>16266338</td>\n",
       "    </tr>\n",
       "    <tr>\n",
       "      <th>2</th>\n",
       "      <td>신과함께-죄와 벌</td>\n",
       "      <td>2017-12-20</td>\n",
       "      <td>판타지,드라마</td>\n",
       "      <td>12세이상관람가</td>\n",
       "      <td>한국</td>\n",
       "      <td>2D,4D</td>\n",
       "      <td>김용화</td>\n",
       "      <td>하정우,차태현,주지훈,김향기,마동석</td>\n",
       "      <td>14414658</td>\n",
       "    </tr>\n",
       "    <tr>\n",
       "      <th>3</th>\n",
       "      <td>국제시장</td>\n",
       "      <td>2014-12-17</td>\n",
       "      <td>드라마</td>\n",
       "      <td>12세이상관람가</td>\n",
       "      <td>한국</td>\n",
       "      <td>필름,2D</td>\n",
       "      <td>윤제균</td>\n",
       "      <td>황정민,김윤진,오달수,정진영</td>\n",
       "      <td>14264478</td>\n",
       "    </tr>\n",
       "    <tr>\n",
       "      <th>4</th>\n",
       "      <td>어벤져스: 엔드게임</td>\n",
       "      <td>2019-04-24</td>\n",
       "      <td>액션,SF</td>\n",
       "      <td>12세이상관람가</td>\n",
       "      <td>미국</td>\n",
       "      <td>2D,3D,4D,IMAX</td>\n",
       "      <td>안소니 루소,조 루소</td>\n",
       "      <td>로버트 다우니 주니어,크리스 에반스,마크 러팔로,크리스 헴스워스,스칼렛 요한슨,제레...</td>\n",
       "      <td>13977602</td>\n",
       "    </tr>\n",
       "  </tbody>\n",
       "</table>\n",
       "</div>"
      ],
      "text/plain": [
       "        Title     Release    Genre       Age Nation           Type  \\\n",
       "0          명량  2014-07-30    사극,액션  15세이상관람가     한국       필름,2D,4D   \n",
       "1        극한직업  2019-01-23      코미디  15세이상관람가     한국             2D   \n",
       "2   신과함께-죄와 벌  2017-12-20  판타지,드라마  12세이상관람가     한국          2D,4D   \n",
       "3        국제시장  2014-12-17      드라마  12세이상관람가     한국          필름,2D   \n",
       "4  어벤져스: 엔드게임  2019-04-24    액션,SF  12세이상관람가     미국  2D,3D,4D,IMAX   \n",
       "\n",
       "      Director                                         Main_actor      Audi  \n",
       "0          김한민                                        최민식,류승룡,조진웅  17615919  \n",
       "1          이병헌                                 류승룡,이하늬,진선규,이동휘,공명  16266338  \n",
       "2          김용화                                하정우,차태현,주지훈,김향기,마동석  14414658  \n",
       "3          윤제균                                    황정민,김윤진,오달수,정진영  14264478  \n",
       "4  안소니 루소,조 루소  로버트 다우니 주니어,크리스 에반스,마크 러팔로,크리스 헴스워스,스칼렛 요한슨,제레...  13977602  "
      ]
     },
     "execution_count": 30,
     "metadata": {},
     "output_type": "execute_result"
    }
   ],
   "source": [
    "sample1.head()"
   ]
  },
  {
   "cell_type": "code",
   "execution_count": null,
   "id": "ce40db00",
   "metadata": {},
   "outputs": [],
   "source": []
  },
  {
   "cell_type": "markdown",
   "id": "d0af071b",
   "metadata": {},
   "source": [
    "# 4. 3에서 구한 감독들의 평균 관람객수는 영화의 최종관람객수와 관계가 있는지?"
   ]
  },
  {
   "cell_type": "markdown",
   "id": "08374436",
   "metadata": {},
   "source": [
    "## 기본 기술통계\n",
    "\n",
    "- 총 202개의 영화의 누적관람객수의 평균은 6429580이다.\n",
    "- 최고누적관람객수는 17615919이다.\n",
    "- 최저누적관람객수는 3460212이다."
   ]
  },
  {
   "cell_type": "code",
   "execution_count": 39,
   "id": "e2ad9bed",
   "metadata": {},
   "outputs": [
    {
     "data": {
      "text/html": [
       "<div>\n",
       "<style scoped>\n",
       "    .dataframe tbody tr th:only-of-type {\n",
       "        vertical-align: middle;\n",
       "    }\n",
       "\n",
       "    .dataframe tbody tr th {\n",
       "        vertical-align: top;\n",
       "    }\n",
       "\n",
       "    .dataframe thead th {\n",
       "        text-align: right;\n",
       "    }\n",
       "</style>\n",
       "<table border=\"1\" class=\"dataframe\">\n",
       "  <thead>\n",
       "    <tr style=\"text-align: right;\">\n",
       "      <th></th>\n",
       "      <th>Audi</th>\n",
       "    </tr>\n",
       "  </thead>\n",
       "  <tbody>\n",
       "    <tr>\n",
       "      <th>count</th>\n",
       "      <td>202</td>\n",
       "    </tr>\n",
       "    <tr>\n",
       "      <th>mean</th>\n",
       "      <td>6429580</td>\n",
       "    </tr>\n",
       "    <tr>\n",
       "      <th>std</th>\n",
       "      <td>2924239</td>\n",
       "    </tr>\n",
       "    <tr>\n",
       "      <th>min</th>\n",
       "      <td>3460212</td>\n",
       "    </tr>\n",
       "    <tr>\n",
       "      <th>10%</th>\n",
       "      <td>3785097</td>\n",
       "    </tr>\n",
       "    <tr>\n",
       "      <th>20%</th>\n",
       "      <td>4112235</td>\n",
       "    </tr>\n",
       "    <tr>\n",
       "      <th>30%</th>\n",
       "      <td>4542281</td>\n",
       "    </tr>\n",
       "    <tr>\n",
       "      <th>40%</th>\n",
       "      <td>4855392</td>\n",
       "    </tr>\n",
       "    <tr>\n",
       "      <th>50%</th>\n",
       "      <td>5357899</td>\n",
       "    </tr>\n",
       "    <tr>\n",
       "      <th>60%</th>\n",
       "      <td>6057441</td>\n",
       "    </tr>\n",
       "    <tr>\n",
       "      <th>70%</th>\n",
       "      <td>7083654</td>\n",
       "    </tr>\n",
       "    <tr>\n",
       "      <th>80%</th>\n",
       "      <td>8163629</td>\n",
       "    </tr>\n",
       "    <tr>\n",
       "      <th>90%</th>\n",
       "      <td>11217958</td>\n",
       "    </tr>\n",
       "    <tr>\n",
       "      <th>max</th>\n",
       "      <td>17615919</td>\n",
       "    </tr>\n",
       "  </tbody>\n",
       "</table>\n",
       "</div>"
      ],
      "text/plain": [
       "           Audi\n",
       "count       202\n",
       "mean    6429580\n",
       "std     2924239\n",
       "min     3460212\n",
       "10%     3785097\n",
       "20%     4112235\n",
       "30%     4542281\n",
       "40%     4855392\n",
       "50%     5357899\n",
       "60%     6057441\n",
       "70%     7083654\n",
       "80%     8163629\n",
       "90%    11217958\n",
       "max    17615919"
      ]
     },
     "execution_count": 39,
     "metadata": {},
     "output_type": "execute_result"
    }
   ],
   "source": [
    "sample1.describe(percentiles = [0.1, 0.2, 0.3, 0.4, 0.5, 0.6, 0.7, 0.8, 0.9]).astype(int)"
   ]
  },
  {
   "cell_type": "markdown",
   "id": "56dad4ec",
   "metadata": {},
   "source": [
    "### 1작품 만든 감독의 수(201위 이내)"
   ]
  },
  {
   "cell_type": "code",
   "execution_count": 35,
   "id": "7c706572",
   "metadata": {},
   "outputs": [
    {
     "data": {
      "text/plain": [
       "94"
      ]
     },
     "execution_count": 35,
     "metadata": {},
     "output_type": "execute_result"
    }
   ],
   "source": [
    "sum(director_making_count == 1)"
   ]
  },
  {
   "cell_type": "markdown",
   "id": "fc813d91",
   "metadata": {},
   "source": [
    "### 2작품 이상 만든 감독의 수(201위 이내)"
   ]
  },
  {
   "cell_type": "code",
   "execution_count": 33,
   "id": "75e469ef",
   "metadata": {},
   "outputs": [
    {
     "data": {
      "text/plain": [
       "43"
      ]
     },
     "execution_count": 33,
     "metadata": {},
     "output_type": "execute_result"
    }
   ],
   "source": [
    "sum(director_making_count >= 2)"
   ]
  },
  {
   "cell_type": "markdown",
   "id": "78986097",
   "metadata": {},
   "source": [
    "### 3작품 이상 만든 감독의 수(201위 이내)"
   ]
  },
  {
   "cell_type": "code",
   "execution_count": 38,
   "id": "c524b659",
   "metadata": {},
   "outputs": [
    {
     "data": {
      "text/plain": [
       "15"
      ]
     },
     "execution_count": 38,
     "metadata": {},
     "output_type": "execute_result"
    }
   ],
   "source": [
    "sum(director_making_count >= 3)"
   ]
  },
  {
   "cell_type": "markdown",
   "id": "d0d1a411",
   "metadata": {},
   "source": [
    "### 3작품 이상 만든 감독의 수(201위 이내)"
   ]
  },
  {
   "cell_type": "code",
   "execution_count": 36,
   "id": "6c70281e",
   "metadata": {},
   "outputs": [
    {
     "data": {
      "text/plain": [
       "7"
      ]
     },
     "execution_count": 36,
     "metadata": {},
     "output_type": "execute_result"
    }
   ],
   "source": [
    "sum(director_making_count >= 4)"
   ]
  },
  {
   "cell_type": "code",
   "execution_count": 41,
   "id": "1cb6a974",
   "metadata": {},
   "outputs": [
    {
     "data": {
      "text/plain": [
       "0            김용화\n",
       "1            류승완\n",
       "2         마이클 베이\n",
       "3    안소니 루소,조 루소\n",
       "4            이석훈\n",
       "5            최동훈\n",
       "6       크리스토퍼 놀란\n",
       "Name: Director, dtype: object"
      ]
     },
     "execution_count": 41,
     "metadata": {},
     "output_type": "execute_result"
    }
   ],
   "source": [
    "sample1[\"Director\"].mode() # 가장 작품을 많이 만든 감독들"
   ]
  },
  {
   "cell_type": "code",
   "execution_count": 42,
   "id": "529a8d79",
   "metadata": {},
   "outputs": [
    {
     "data": {
      "text/plain": [
       "0    12세이상관람가\n",
       "Name: Age, dtype: object"
      ]
     },
     "execution_count": 42,
     "metadata": {},
     "output_type": "execute_result"
    }
   ],
   "source": [
    "sample1[\"Age\"].mode() # 가장 많은 작품이 등록된 관람연령판정"
   ]
  },
  {
   "cell_type": "code",
   "execution_count": 44,
   "id": "3cc95d73",
   "metadata": {},
   "outputs": [],
   "source": [
    "import matplotlib.pyplot as plt"
   ]
  },
  {
   "cell_type": "markdown",
   "id": "d683797b",
   "metadata": {},
   "source": [
    "### 순위에 따른 누적관람객수 산점도"
   ]
  },
  {
   "cell_type": "code",
   "execution_count": 50,
   "id": "7e389e37",
   "metadata": {},
   "outputs": [
    {
     "data": {
      "text/plain": [
       "<matplotlib.collections.PathCollection at 0x1bb5290cf10>"
      ]
     },
     "execution_count": 50,
     "metadata": {},
     "output_type": "execute_result"
    },
    {
     "data": {
      "image/png": "[encoded data removed]",
      "text/plain": [
       "<Figure size 640x480 with 1 Axes>"
      ]
     },
     "metadata": {},
     "output_type": "display_data"
    }
   ],
   "source": [
    "plt.scatter(sample1.index, sample1[\"Audi\"], alpha = 0.5) "
   ]
  },
  {
   "cell_type": "code",
   "execution_count": null,
   "id": "1940f0e4",
   "metadata": {},
   "outputs": [],
   "source": []
  },
  {
   "cell_type": "markdown",
   "id": "b2a1e41f",
   "metadata": {},
   "source": [
    "### 감독별 평균 관람객수 컬럼 추가\n",
    "- Audi_x : 누적관람객\n",
    "- Audi_y : 감독의 평균관람객"
   ]
  },
  {
   "cell_type": "code",
   "execution_count": 64,
   "id": "b240c656",
   "metadata": {},
   "outputs": [
    {
     "data": {
      "text/html": [
       "<div>\n",
       "<style scoped>\n",
       "    .dataframe tbody tr th:only-of-type {\n",
       "        vertical-align: middle;\n",
       "    }\n",
       "\n",
       "    .dataframe tbody tr th {\n",
       "        vertical-align: top;\n",
       "    }\n",
       "\n",
       "    .dataframe thead th {\n",
       "        text-align: right;\n",
       "    }\n",
       "</style>\n",
       "<table border=\"1\" class=\"dataframe\">\n",
       "  <thead>\n",
       "    <tr style=\"text-align: right;\">\n",
       "      <th></th>\n",
       "      <th>Title</th>\n",
       "      <th>Release</th>\n",
       "      <th>Genre</th>\n",
       "      <th>Age</th>\n",
       "      <th>Nation</th>\n",
       "      <th>Type</th>\n",
       "      <th>Director</th>\n",
       "      <th>Main_actor</th>\n",
       "      <th>Audi_x</th>\n",
       "      <th>Audi_y</th>\n",
       "    </tr>\n",
       "  </thead>\n",
       "  <tbody>\n",
       "    <tr>\n",
       "      <th>0</th>\n",
       "      <td>명량</td>\n",
       "      <td>2014-07-30</td>\n",
       "      <td>사극,액션</td>\n",
       "      <td>15세이상관람가</td>\n",
       "      <td>한국</td>\n",
       "      <td>필름,2D,4D</td>\n",
       "      <td>김한민</td>\n",
       "      <td>최민식,류승룡,조진웅</td>\n",
       "      <td>17615919</td>\n",
       "      <td>10783828</td>\n",
       "    </tr>\n",
       "    <tr>\n",
       "      <th>3</th>\n",
       "      <td>극한직업</td>\n",
       "      <td>2019-01-23</td>\n",
       "      <td>코미디</td>\n",
       "      <td>15세이상관람가</td>\n",
       "      <td>한국</td>\n",
       "      <td>2D</td>\n",
       "      <td>이병헌</td>\n",
       "      <td>류승룡,이하늬,진선규,이동휘,공명</td>\n",
       "      <td>16266338</td>\n",
       "      <td>16266338</td>\n",
       "    </tr>\n",
       "    <tr>\n",
       "      <th>4</th>\n",
       "      <td>신과함께-죄와 벌</td>\n",
       "      <td>2017-12-20</td>\n",
       "      <td>판타지,드라마</td>\n",
       "      <td>12세이상관람가</td>\n",
       "      <td>한국</td>\n",
       "      <td>2D,4D</td>\n",
       "      <td>김용화</td>\n",
       "      <td>하정우,차태현,주지훈,김향기,마동석</td>\n",
       "      <td>14414658</td>\n",
       "      <td>10202332</td>\n",
       "    </tr>\n",
       "    <tr>\n",
       "      <th>8</th>\n",
       "      <td>국제시장</td>\n",
       "      <td>2014-12-17</td>\n",
       "      <td>드라마</td>\n",
       "      <td>12세이상관람가</td>\n",
       "      <td>한국</td>\n",
       "      <td>필름,2D</td>\n",
       "      <td>윤제균</td>\n",
       "      <td>황정민,김윤진,오달수,정진영</td>\n",
       "      <td>14264478</td>\n",
       "      <td>12794797</td>\n",
       "    </tr>\n",
       "    <tr>\n",
       "      <th>10</th>\n",
       "      <td>어벤져스: 엔드게임</td>\n",
       "      <td>2019-04-24</td>\n",
       "      <td>액션,SF</td>\n",
       "      <td>12세이상관람가</td>\n",
       "      <td>미국</td>\n",
       "      <td>2D,3D,4D,IMAX</td>\n",
       "      <td>안소니 루소,조 루소</td>\n",
       "      <td>로버트 다우니 주니어,크리스 에반스,마크 러팔로,크리스 헴스워스,스칼렛 요한슨,제레...</td>\n",
       "      <td>13977602</td>\n",
       "      <td>9468588</td>\n",
       "    </tr>\n",
       "    <tr>\n",
       "      <th>...</th>\n",
       "      <td>...</td>\n",
       "      <td>...</td>\n",
       "      <td>...</td>\n",
       "      <td>...</td>\n",
       "      <td>...</td>\n",
       "      <td>...</td>\n",
       "      <td>...</td>\n",
       "      <td>...</td>\n",
       "      <td>...</td>\n",
       "      <td>...</td>\n",
       "    </tr>\n",
       "    <tr>\n",
       "      <th>197</th>\n",
       "      <td>해리 포터와 불의 잔</td>\n",
       "      <td>2005-12-01</td>\n",
       "      <td>액션,판타지</td>\n",
       "      <td>12세관람가</td>\n",
       "      <td>미국</td>\n",
       "      <td>필름,4D</td>\n",
       "      <td>마이크 뉴웰</td>\n",
       "      <td>다니엘 래드클리프,루퍼트 그린트,엠마 왓슨,랄프 파인즈</td>\n",
       "      <td>3499257</td>\n",
       "      <td>3499257</td>\n",
       "    </tr>\n",
       "    <tr>\n",
       "      <th>198</th>\n",
       "      <td>비긴 어게인</td>\n",
       "      <td>2014-08-13</td>\n",
       "      <td>멜로/로맨스</td>\n",
       "      <td>15세이상관람가</td>\n",
       "      <td>미국</td>\n",
       "      <td>필름,2D</td>\n",
       "      <td>존 카니</td>\n",
       "      <td>키이라 나이틀리,마크 러팔로,애덤 리바인,헤일리 스테인펠드,제임스 코든,캐서린 키너</td>\n",
       "      <td>3477672</td>\n",
       "      <td>3477672</td>\n",
       "    </tr>\n",
       "    <tr>\n",
       "      <th>199</th>\n",
       "      <td>태풍</td>\n",
       "      <td>2005-12-14</td>\n",
       "      <td>드라마,액션</td>\n",
       "      <td>15세관람가</td>\n",
       "      <td>한국</td>\n",
       "      <td>필름,2D</td>\n",
       "      <td>곽경택</td>\n",
       "      <td>이정재,이미연,장동건</td>\n",
       "      <td>3471150</td>\n",
       "      <td>3471150</td>\n",
       "    </tr>\n",
       "    <tr>\n",
       "      <th>200</th>\n",
       "      <td>킹콩</td>\n",
       "      <td>2005-12-14</td>\n",
       "      <td>드라마,어드벤처</td>\n",
       "      <td>15세관람가</td>\n",
       "      <td>미국</td>\n",
       "      <td>필름</td>\n",
       "      <td>피터 잭슨</td>\n",
       "      <td>잭 블랙,애드리언 브로디,나오미 왓츠</td>\n",
       "      <td>3470059</td>\n",
       "      <td>3470059</td>\n",
       "    </tr>\n",
       "    <tr>\n",
       "      <th>201</th>\n",
       "      <td>부러진 화살</td>\n",
       "      <td>2012-01-18</td>\n",
       "      <td>드라마</td>\n",
       "      <td>15세이상관람가</td>\n",
       "      <td>한국</td>\n",
       "      <td>필름,2D</td>\n",
       "      <td>정지영</td>\n",
       "      <td>안성기,박원상,나영희,김지호,신종훈</td>\n",
       "      <td>3460212</td>\n",
       "      <td>3460212</td>\n",
       "    </tr>\n",
       "  </tbody>\n",
       "</table>\n",
       "<p>202 rows × 10 columns</p>\n",
       "</div>"
      ],
      "text/plain": [
       "           Title     Release     Genre       Age Nation           Type  \\\n",
       "0             명량  2014-07-30     사극,액션  15세이상관람가     한국       필름,2D,4D   \n",
       "3           극한직업  2019-01-23       코미디  15세이상관람가     한국             2D   \n",
       "4      신과함께-죄와 벌  2017-12-20   판타지,드라마  12세이상관람가     한국          2D,4D   \n",
       "8           국제시장  2014-12-17       드라마  12세이상관람가     한국          필름,2D   \n",
       "10    어벤져스: 엔드게임  2019-04-24     액션,SF  12세이상관람가     미국  2D,3D,4D,IMAX   \n",
       "..           ...         ...       ...       ...    ...            ...   \n",
       "197  해리 포터와 불의 잔  2005-12-01    액션,판타지    12세관람가     미국          필름,4D   \n",
       "198       비긴 어게인  2014-08-13    멜로/로맨스  15세이상관람가     미국          필름,2D   \n",
       "199           태풍  2005-12-14    드라마,액션    15세관람가     한국          필름,2D   \n",
       "200           킹콩  2005-12-14  드라마,어드벤처    15세관람가     미국             필름   \n",
       "201       부러진 화살  2012-01-18       드라마  15세이상관람가     한국          필름,2D   \n",
       "\n",
       "        Director                                         Main_actor    Audi_x  \\\n",
       "0            김한민                                        최민식,류승룡,조진웅  17615919   \n",
       "3            이병헌                                 류승룡,이하늬,진선규,이동휘,공명  16266338   \n",
       "4            김용화                                하정우,차태현,주지훈,김향기,마동석  14414658   \n",
       "8            윤제균                                    황정민,김윤진,오달수,정진영  14264478   \n",
       "10   안소니 루소,조 루소  로버트 다우니 주니어,크리스 에반스,마크 러팔로,크리스 헴스워스,스칼렛 요한슨,제레...  13977602   \n",
       "..           ...                                                ...       ...   \n",
       "197       마이크 뉴웰                     다니엘 래드클리프,루퍼트 그린트,엠마 왓슨,랄프 파인즈   3499257   \n",
       "198         존 카니     키이라 나이틀리,마크 러팔로,애덤 리바인,헤일리 스테인펠드,제임스 코든,캐서린 키너   3477672   \n",
       "199          곽경택                                        이정재,이미연,장동건   3471150   \n",
       "200        피터 잭슨                               잭 블랙,애드리언 브로디,나오미 왓츠   3470059   \n",
       "201          정지영                                안성기,박원상,나영희,김지호,신종훈   3460212   \n",
       "\n",
       "       Audi_y  \n",
       "0    10783828  \n",
       "3    16266338  \n",
       "4    10202332  \n",
       "8    12794797  \n",
       "10    9468588  \n",
       "..        ...  \n",
       "197   3499257  \n",
       "198   3477672  \n",
       "199   3471150  \n",
       "200   3470059  \n",
       "201   3460212  \n",
       "\n",
       "[202 rows x 10 columns]"
      ]
     },
     "execution_count": 64,
     "metadata": {},
     "output_type": "execute_result"
    }
   ],
   "source": [
    "sample2 = pd.merge(sample1, director_audi_avg, on = \"Director\")\n",
    "sample3 = sample2.sort_values(\"Audi_x\", ascending = False)\n",
    "sample3"
   ]
  },
  {
   "cell_type": "code",
   "execution_count": 68,
   "id": "842a8afd",
   "metadata": {},
   "outputs": [],
   "source": [
    "# Merge 이후로 꼬인 인덱스를 재조정"
   ]
  },
  {
   "cell_type": "code",
   "execution_count": 66,
   "id": "b4b00c57",
   "metadata": {},
   "outputs": [
    {
     "data": {
      "text/html": [
       "<div>\n",
       "<style scoped>\n",
       "    .dataframe tbody tr th:only-of-type {\n",
       "        vertical-align: middle;\n",
       "    }\n",
       "\n",
       "    .dataframe tbody tr th {\n",
       "        vertical-align: top;\n",
       "    }\n",
       "\n",
       "    .dataframe thead th {\n",
       "        text-align: right;\n",
       "    }\n",
       "</style>\n",
       "<table border=\"1\" class=\"dataframe\">\n",
       "  <thead>\n",
       "    <tr style=\"text-align: right;\">\n",
       "      <th></th>\n",
       "      <th>Title</th>\n",
       "      <th>Release</th>\n",
       "      <th>Genre</th>\n",
       "      <th>Age</th>\n",
       "      <th>Nation</th>\n",
       "      <th>Type</th>\n",
       "      <th>Director</th>\n",
       "      <th>Main_actor</th>\n",
       "      <th>Audi_x</th>\n",
       "      <th>Audi_y</th>\n",
       "    </tr>\n",
       "  </thead>\n",
       "  <tbody>\n",
       "    <tr>\n",
       "      <th>0</th>\n",
       "      <td>명량</td>\n",
       "      <td>2014-07-30</td>\n",
       "      <td>사극,액션</td>\n",
       "      <td>15세이상관람가</td>\n",
       "      <td>한국</td>\n",
       "      <td>필름,2D,4D</td>\n",
       "      <td>김한민</td>\n",
       "      <td>최민식,류승룡,조진웅</td>\n",
       "      <td>17615919</td>\n",
       "      <td>10783828</td>\n",
       "    </tr>\n",
       "    <tr>\n",
       "      <th>1</th>\n",
       "      <td>극한직업</td>\n",
       "      <td>2019-01-23</td>\n",
       "      <td>코미디</td>\n",
       "      <td>15세이상관람가</td>\n",
       "      <td>한국</td>\n",
       "      <td>2D</td>\n",
       "      <td>이병헌</td>\n",
       "      <td>류승룡,이하늬,진선규,이동휘,공명</td>\n",
       "      <td>16266338</td>\n",
       "      <td>16266338</td>\n",
       "    </tr>\n",
       "    <tr>\n",
       "      <th>2</th>\n",
       "      <td>신과함께-죄와 벌</td>\n",
       "      <td>2017-12-20</td>\n",
       "      <td>판타지,드라마</td>\n",
       "      <td>12세이상관람가</td>\n",
       "      <td>한국</td>\n",
       "      <td>2D,4D</td>\n",
       "      <td>김용화</td>\n",
       "      <td>하정우,차태현,주지훈,김향기,마동석</td>\n",
       "      <td>14414658</td>\n",
       "      <td>10202332</td>\n",
       "    </tr>\n",
       "    <tr>\n",
       "      <th>3</th>\n",
       "      <td>국제시장</td>\n",
       "      <td>2014-12-17</td>\n",
       "      <td>드라마</td>\n",
       "      <td>12세이상관람가</td>\n",
       "      <td>한국</td>\n",
       "      <td>필름,2D</td>\n",
       "      <td>윤제균</td>\n",
       "      <td>황정민,김윤진,오달수,정진영</td>\n",
       "      <td>14264478</td>\n",
       "      <td>12794797</td>\n",
       "    </tr>\n",
       "    <tr>\n",
       "      <th>4</th>\n",
       "      <td>어벤져스: 엔드게임</td>\n",
       "      <td>2019-04-24</td>\n",
       "      <td>액션,SF</td>\n",
       "      <td>12세이상관람가</td>\n",
       "      <td>미국</td>\n",
       "      <td>2D,3D,4D,IMAX</td>\n",
       "      <td>안소니 루소,조 루소</td>\n",
       "      <td>로버트 다우니 주니어,크리스 에반스,마크 러팔로,크리스 헴스워스,스칼렛 요한슨,제레...</td>\n",
       "      <td>13977602</td>\n",
       "      <td>9468588</td>\n",
       "    </tr>\n",
       "    <tr>\n",
       "      <th>...</th>\n",
       "      <td>...</td>\n",
       "      <td>...</td>\n",
       "      <td>...</td>\n",
       "      <td>...</td>\n",
       "      <td>...</td>\n",
       "      <td>...</td>\n",
       "      <td>...</td>\n",
       "      <td>...</td>\n",
       "      <td>...</td>\n",
       "      <td>...</td>\n",
       "    </tr>\n",
       "    <tr>\n",
       "      <th>197</th>\n",
       "      <td>해리 포터와 불의 잔</td>\n",
       "      <td>2005-12-01</td>\n",
       "      <td>액션,판타지</td>\n",
       "      <td>12세관람가</td>\n",
       "      <td>미국</td>\n",
       "      <td>필름,4D</td>\n",
       "      <td>마이크 뉴웰</td>\n",
       "      <td>다니엘 래드클리프,루퍼트 그린트,엠마 왓슨,랄프 파인즈</td>\n",
       "      <td>3499257</td>\n",
       "      <td>3499257</td>\n",
       "    </tr>\n",
       "    <tr>\n",
       "      <th>198</th>\n",
       "      <td>비긴 어게인</td>\n",
       "      <td>2014-08-13</td>\n",
       "      <td>멜로/로맨스</td>\n",
       "      <td>15세이상관람가</td>\n",
       "      <td>미국</td>\n",
       "      <td>필름,2D</td>\n",
       "      <td>존 카니</td>\n",
       "      <td>키이라 나이틀리,마크 러팔로,애덤 리바인,헤일리 스테인펠드,제임스 코든,캐서린 키너</td>\n",
       "      <td>3477672</td>\n",
       "      <td>3477672</td>\n",
       "    </tr>\n",
       "    <tr>\n",
       "      <th>199</th>\n",
       "      <td>태풍</td>\n",
       "      <td>2005-12-14</td>\n",
       "      <td>드라마,액션</td>\n",
       "      <td>15세관람가</td>\n",
       "      <td>한국</td>\n",
       "      <td>필름,2D</td>\n",
       "      <td>곽경택</td>\n",
       "      <td>이정재,이미연,장동건</td>\n",
       "      <td>3471150</td>\n",
       "      <td>3471150</td>\n",
       "    </tr>\n",
       "    <tr>\n",
       "      <th>200</th>\n",
       "      <td>킹콩</td>\n",
       "      <td>2005-12-14</td>\n",
       "      <td>드라마,어드벤처</td>\n",
       "      <td>15세관람가</td>\n",
       "      <td>미국</td>\n",
       "      <td>필름</td>\n",
       "      <td>피터 잭슨</td>\n",
       "      <td>잭 블랙,애드리언 브로디,나오미 왓츠</td>\n",
       "      <td>3470059</td>\n",
       "      <td>3470059</td>\n",
       "    </tr>\n",
       "    <tr>\n",
       "      <th>201</th>\n",
       "      <td>부러진 화살</td>\n",
       "      <td>2012-01-18</td>\n",
       "      <td>드라마</td>\n",
       "      <td>15세이상관람가</td>\n",
       "      <td>한국</td>\n",
       "      <td>필름,2D</td>\n",
       "      <td>정지영</td>\n",
       "      <td>안성기,박원상,나영희,김지호,신종훈</td>\n",
       "      <td>3460212</td>\n",
       "      <td>3460212</td>\n",
       "    </tr>\n",
       "  </tbody>\n",
       "</table>\n",
       "<p>202 rows × 10 columns</p>\n",
       "</div>"
      ],
      "text/plain": [
       "           Title     Release     Genre       Age Nation           Type  \\\n",
       "0             명량  2014-07-30     사극,액션  15세이상관람가     한국       필름,2D,4D   \n",
       "1           극한직업  2019-01-23       코미디  15세이상관람가     한국             2D   \n",
       "2      신과함께-죄와 벌  2017-12-20   판타지,드라마  12세이상관람가     한국          2D,4D   \n",
       "3           국제시장  2014-12-17       드라마  12세이상관람가     한국          필름,2D   \n",
       "4     어벤져스: 엔드게임  2019-04-24     액션,SF  12세이상관람가     미국  2D,3D,4D,IMAX   \n",
       "..           ...         ...       ...       ...    ...            ...   \n",
       "197  해리 포터와 불의 잔  2005-12-01    액션,판타지    12세관람가     미국          필름,4D   \n",
       "198       비긴 어게인  2014-08-13    멜로/로맨스  15세이상관람가     미국          필름,2D   \n",
       "199           태풍  2005-12-14    드라마,액션    15세관람가     한국          필름,2D   \n",
       "200           킹콩  2005-12-14  드라마,어드벤처    15세관람가     미국             필름   \n",
       "201       부러진 화살  2012-01-18       드라마  15세이상관람가     한국          필름,2D   \n",
       "\n",
       "        Director                                         Main_actor    Audi_x  \\\n",
       "0            김한민                                        최민식,류승룡,조진웅  17615919   \n",
       "1            이병헌                                 류승룡,이하늬,진선규,이동휘,공명  16266338   \n",
       "2            김용화                                하정우,차태현,주지훈,김향기,마동석  14414658   \n",
       "3            윤제균                                    황정민,김윤진,오달수,정진영  14264478   \n",
       "4    안소니 루소,조 루소  로버트 다우니 주니어,크리스 에반스,마크 러팔로,크리스 헴스워스,스칼렛 요한슨,제레...  13977602   \n",
       "..           ...                                                ...       ...   \n",
       "197       마이크 뉴웰                     다니엘 래드클리프,루퍼트 그린트,엠마 왓슨,랄프 파인즈   3499257   \n",
       "198         존 카니     키이라 나이틀리,마크 러팔로,애덤 리바인,헤일리 스테인펠드,제임스 코든,캐서린 키너   3477672   \n",
       "199          곽경택                                        이정재,이미연,장동건   3471150   \n",
       "200        피터 잭슨                               잭 블랙,애드리언 브로디,나오미 왓츠   3470059   \n",
       "201          정지영                                안성기,박원상,나영희,김지호,신종훈   3460212   \n",
       "\n",
       "       Audi_y  \n",
       "0    10783828  \n",
       "1    16266338  \n",
       "2    10202332  \n",
       "3    12794797  \n",
       "4     9468588  \n",
       "..        ...  \n",
       "197   3499257  \n",
       "198   3477672  \n",
       "199   3471150  \n",
       "200   3470059  \n",
       "201   3460212  \n",
       "\n",
       "[202 rows x 10 columns]"
      ]
     },
     "execution_count": 66,
     "metadata": {},
     "output_type": "execute_result"
    }
   ],
   "source": [
    "sample4 = sample3.reset_index(drop=True)\n",
    "sample4"
   ]
  },
  {
   "cell_type": "code",
   "execution_count": 67,
   "id": "99b8383c",
   "metadata": {},
   "outputs": [],
   "source": [
    "# 병합 확인"
   ]
  },
  {
   "cell_type": "code",
   "execution_count": 69,
   "id": "a85e55fe",
   "metadata": {},
   "outputs": [
    {
     "data": {
      "text/html": [
       "<div>\n",
       "<style scoped>\n",
       "    .dataframe tbody tr th:only-of-type {\n",
       "        vertical-align: middle;\n",
       "    }\n",
       "\n",
       "    .dataframe tbody tr th {\n",
       "        vertical-align: top;\n",
       "    }\n",
       "\n",
       "    .dataframe thead th {\n",
       "        text-align: right;\n",
       "    }\n",
       "</style>\n",
       "<table border=\"1\" class=\"dataframe\">\n",
       "  <thead>\n",
       "    <tr style=\"text-align: right;\">\n",
       "      <th></th>\n",
       "      <th>Title</th>\n",
       "      <th>Release</th>\n",
       "      <th>Genre</th>\n",
       "      <th>Age</th>\n",
       "      <th>Nation</th>\n",
       "      <th>Type</th>\n",
       "      <th>Director</th>\n",
       "      <th>Main_actor</th>\n",
       "      <th>Audi_x</th>\n",
       "      <th>Audi_y</th>\n",
       "    </tr>\n",
       "  </thead>\n",
       "  <tbody>\n",
       "    <tr>\n",
       "      <th>201</th>\n",
       "      <td>부러진 화살</td>\n",
       "      <td>2012-01-18</td>\n",
       "      <td>드라마</td>\n",
       "      <td>15세이상관람가</td>\n",
       "      <td>한국</td>\n",
       "      <td>필름,2D</td>\n",
       "      <td>정지영</td>\n",
       "      <td>안성기,박원상,나영희,김지호,신종훈</td>\n",
       "      <td>3460212</td>\n",
       "      <td>3460212</td>\n",
       "    </tr>\n",
       "  </tbody>\n",
       "</table>\n",
       "</div>"
      ],
      "text/plain": [
       "      Title     Release Genre       Age Nation   Type Director  \\\n",
       "201  부러진 화살  2012-01-18   드라마  15세이상관람가     한국  필름,2D      정지영   \n",
       "\n",
       "              Main_actor   Audi_x   Audi_y  \n",
       "201  안성기,박원상,나영희,김지호,신종훈  3460212  3460212  "
      ]
     },
     "execution_count": 69,
     "metadata": {},
     "output_type": "execute_result"
    }
   ],
   "source": [
    "sample4[sample4['Director'] == \"정지영\"]"
   ]
  },
  {
   "cell_type": "code",
   "execution_count": 70,
   "id": "77ab3870",
   "metadata": {},
   "outputs": [
    {
     "data": {
      "text/html": [
       "<div>\n",
       "<style scoped>\n",
       "    .dataframe tbody tr th:only-of-type {\n",
       "        vertical-align: middle;\n",
       "    }\n",
       "\n",
       "    .dataframe tbody tr th {\n",
       "        vertical-align: top;\n",
       "    }\n",
       "\n",
       "    .dataframe thead th {\n",
       "        text-align: right;\n",
       "    }\n",
       "</style>\n",
       "<table border=\"1\" class=\"dataframe\">\n",
       "  <thead>\n",
       "    <tr style=\"text-align: right;\">\n",
       "      <th></th>\n",
       "      <th>Title</th>\n",
       "      <th>Release</th>\n",
       "      <th>Genre</th>\n",
       "      <th>Age</th>\n",
       "      <th>Nation</th>\n",
       "      <th>Type</th>\n",
       "      <th>Director</th>\n",
       "      <th>Main_actor</th>\n",
       "      <th>Audi_x</th>\n",
       "      <th>Audi_y</th>\n",
       "    </tr>\n",
       "  </thead>\n",
       "  <tbody>\n",
       "    <tr>\n",
       "      <th>0</th>\n",
       "      <td>명량</td>\n",
       "      <td>2014-07-30</td>\n",
       "      <td>사극,액션</td>\n",
       "      <td>15세이상관람가</td>\n",
       "      <td>한국</td>\n",
       "      <td>필름,2D,4D</td>\n",
       "      <td>김한민</td>\n",
       "      <td>최민식,류승룡,조진웅</td>\n",
       "      <td>17615919</td>\n",
       "      <td>10783828</td>\n",
       "    </tr>\n",
       "    <tr>\n",
       "      <th>50</th>\n",
       "      <td>최종병기 활</td>\n",
       "      <td>2011-08-10</td>\n",
       "      <td>사극,액션</td>\n",
       "      <td>15세이상관람가</td>\n",
       "      <td>한국</td>\n",
       "      <td>필름,2D,4D</td>\n",
       "      <td>김한민</td>\n",
       "      <td>박해일,류승룡,김무열,문채원</td>\n",
       "      <td>7470633</td>\n",
       "      <td>10783828</td>\n",
       "    </tr>\n",
       "    <tr>\n",
       "      <th>54</th>\n",
       "      <td>한산: 용의 출현</td>\n",
       "      <td>2022-07-27</td>\n",
       "      <td>액션,드라마</td>\n",
       "      <td>12세이상관람가</td>\n",
       "      <td>한국</td>\n",
       "      <td>2D,4D,IMAX,ScreenX</td>\n",
       "      <td>김한민</td>\n",
       "      <td>박해일,변요한,안성기,손현주,김성규,김성균,김향기,옥택연,공명,박지환,조재윤,김효주</td>\n",
       "      <td>7264934</td>\n",
       "      <td>10783828</td>\n",
       "    </tr>\n",
       "  </tbody>\n",
       "</table>\n",
       "</div>"
      ],
      "text/plain": [
       "        Title     Release   Genre       Age Nation                Type  \\\n",
       "0          명량  2014-07-30   사극,액션  15세이상관람가     한국            필름,2D,4D   \n",
       "50     최종병기 활  2011-08-10   사극,액션  15세이상관람가     한국            필름,2D,4D   \n",
       "54  한산: 용의 출현  2022-07-27  액션,드라마  12세이상관람가     한국  2D,4D,IMAX,ScreenX   \n",
       "\n",
       "   Director                                      Main_actor    Audi_x  \\\n",
       "0       김한민                                     최민식,류승룡,조진웅  17615919   \n",
       "50      김한민                                 박해일,류승룡,김무열,문채원   7470633   \n",
       "54      김한민  박해일,변요한,안성기,손현주,김성규,김성균,김향기,옥택연,공명,박지환,조재윤,김효주   7264934   \n",
       "\n",
       "      Audi_y  \n",
       "0   10783828  \n",
       "50  10783828  \n",
       "54  10783828  "
      ]
     },
     "execution_count": 70,
     "metadata": {},
     "output_type": "execute_result"
    }
   ],
   "source": [
    "sample4[sample4['Director'] == \"김한민\"]"
   ]
  },
  {
   "cell_type": "markdown",
   "id": "4d32ce61",
   "metadata": {},
   "source": [
    "### 감독의 평균관람객수와 순위의 산점도"
   ]
  },
  {
   "cell_type": "code",
   "execution_count": 102,
   "id": "7557294e",
   "metadata": {},
   "outputs": [
    {
     "data": {
      "text/plain": [
       "<matplotlib.collections.PathCollection at 0x1bb55c5d1f0>"
      ]
     },
     "execution_count": 102,
     "metadata": {},
     "output_type": "execute_result"
    },
    {
     "data": {
      "image/png": "[encoded data removed]",
      "text/plain": [
       "<Figure size 640x480 with 1 Axes>"
      ]
     },
     "metadata": {},
     "output_type": "display_data"
    }
   ],
   "source": [
    "plt.scatter(sample4.index, sample4[\"Audi_y\"], alpha = 0.5) "
   ]
  },
  {
   "cell_type": "markdown",
   "id": "12e6ca4d",
   "metadata": {},
   "source": [
    "### 누적관람객수가 정규분포인지 확인"
   ]
  },
  {
   "cell_type": "code",
   "execution_count": 74,
   "id": "be9780d2",
   "metadata": {},
   "outputs": [
    {
     "data": {
      "text/plain": [
       "(array([17., 20., 12., 17., 16., 12., 11., 11.,  4.,  7.,  2.,  5.,  9.,\n",
       "         8.,  4.,  4.,  5.,  0.,  3.,  1.,  2.,  1.,  2.,  0.,  5.,  1.,\n",
       "         2.,  3.,  1.,  1.,  1.,  2.,  3.,  2.,  1.,  1.,  1.,  1.,  2.,\n",
       "         0.,  0.,  0.,  0.,  0.,  0.,  1.,  0.,  0.,  0.,  1.]),\n",
       " array([ 3460212.  ,  3743326.14,  4026440.28,  4309554.42,  4592668.56,\n",
       "         4875782.7 ,  5158896.84,  5442010.98,  5725125.12,  6008239.26,\n",
       "         6291353.4 ,  6574467.54,  6857581.68,  7140695.82,  7423809.96,\n",
       "         7706924.1 ,  7990038.24,  8273152.38,  8556266.52,  8839380.66,\n",
       "         9122494.8 ,  9405608.94,  9688723.08,  9971837.22, 10254951.36,\n",
       "        10538065.5 , 10821179.64, 11104293.78, 11387407.92, 11670522.06,\n",
       "        11953636.2 , 12236750.34, 12519864.48, 12802978.62, 13086092.76,\n",
       "        13369206.9 , 13652321.04, 13935435.18, 14218549.32, 14501663.46,\n",
       "        14784777.6 , 15067891.74, 15351005.88, 15634120.02, 15917234.16,\n",
       "        16200348.3 , 16483462.44, 16766576.58, 17049690.72, 17332804.86,\n",
       "        17615919.  ]),\n",
       " <BarContainer object of 50 artists>)"
      ]
     },
     "execution_count": 74,
     "metadata": {},
     "output_type": "execute_result"
    },
    {
     "data": {
      "image/png": "[encoded data removed]",
      "text/plain": [
       "<Figure size 640x480 with 1 Axes>"
      ]
     },
     "metadata": {},
     "output_type": "display_data"
    }
   ],
   "source": [
    "plt.hist(sample4[\"Audi_x\"], bins=50) # 히스토그램만봐도 정규분포는 아닌 것으로 보인다.."
   ]
  },
  {
   "cell_type": "markdown",
   "id": "0321071a",
   "metadata": {},
   "source": [
    "#### 샘플링을 통해 정규분포에 가까운지 알아보자"
   ]
  },
  {
   "cell_type": "code",
   "execution_count": 76,
   "id": "c947ea54",
   "metadata": {},
   "outputs": [],
   "source": [
    "np.random.seed(42)\n",
    "sample_means = []\n",
    "for _ in range(1000):\n",
    "    m = sample4[\"Audi_x\"].sample(30).mean()\n",
    "    sample_means.append(m)"
   ]
  },
  {
   "cell_type": "code",
   "execution_count": 77,
   "id": "4b5f4359",
   "metadata": {},
   "outputs": [
    {
     "data": {
      "text/plain": [
       "(array([ 5.,  4.,  9., 11., 27., 29., 37., 47., 52., 50., 70., 65., 80.,\n",
       "        63., 74., 71., 53., 56., 41., 45., 34., 15., 15., 16., 17.,  7.,\n",
       "         4.,  1.,  0.,  2.]),\n",
       " array([5163310.16666667, 5257609.50444444, 5351908.84222222,\n",
       "        5446208.18      , 5540507.51777778, 5634806.85555556,\n",
       "        5729106.19333333, 5823405.53111111, 5917704.86888889,\n",
       "        6012004.20666667, 6106303.54444444, 6200602.88222222,\n",
       "        6294902.22      , 6389201.55777778, 6483500.89555556,\n",
       "        6577800.23333333, 6672099.57111111, 6766398.90888889,\n",
       "        6860698.24666667, 6954997.58444444, 7049296.92222222,\n",
       "        7143596.26      , 7237895.59777778, 7332194.93555555,\n",
       "        7426494.27333333, 7520793.61111111, 7615092.94888889,\n",
       "        7709392.28666667, 7803691.62444444, 7897990.96222222,\n",
       "        7992290.3       ]),\n",
       " <BarContainer object of 30 artists>)"
      ]
     },
     "execution_count": 77,
     "metadata": {},
     "output_type": "execute_result"
    },
    {
     "data": {
      "image/png": "[encoded data removed]",
      "text/plain": [
       "<Figure size 640x480 with 1 Axes>"
      ]
     },
     "metadata": {},
     "output_type": "display_data"
    }
   ],
   "source": [
    "plt.hist(sample_means, bins = 30) # 샘플링으로 봤을 때 정규분포에 가깝다."
   ]
  },
  {
   "cell_type": "markdown",
   "id": "8df6fc5d",
   "metadata": {},
   "source": [
    "#### 샘플링의 크기와 정확도 테스트\n",
    "\n",
    "- 샘플링의 평균값과 sample4[\"Audi_x\"]의 평균값 비교"
   ]
  },
  {
   "cell_type": "code",
   "execution_count": 78,
   "id": "4ed6109e",
   "metadata": {},
   "outputs": [
    {
     "data": {
      "text/plain": [
       "6425688.596"
      ]
     },
     "execution_count": 78,
     "metadata": {},
     "output_type": "execute_result"
    }
   ],
   "source": [
    "np.mean(sample_means)"
   ]
  },
  {
   "cell_type": "code",
   "execution_count": 79,
   "id": "6059e4e0",
   "metadata": {},
   "outputs": [
    {
     "data": {
      "text/plain": [
       "6429580.193069307"
      ]
     },
     "execution_count": 79,
     "metadata": {},
     "output_type": "execute_result"
    }
   ],
   "source": [
    "sample4[\"Audi_x\"].mean()"
   ]
  },
  {
   "cell_type": "code",
   "execution_count": 81,
   "id": "f0e8641d",
   "metadata": {},
   "outputs": [],
   "source": [
    "# 놀랍도록 비슷하므로 신뢰도 up\n",
    "# Audi_x는 정규분포이다"
   ]
  },
  {
   "cell_type": "code",
   "execution_count": null,
   "id": "30379df9",
   "metadata": {},
   "outputs": [],
   "source": []
  },
  {
   "cell_type": "markdown",
   "id": "71eef988",
   "metadata": {},
   "source": [
    "### 감독별 평균관람객수가 정규분포인지 확인"
   ]
  },
  {
   "cell_type": "code",
   "execution_count": 82,
   "id": "dd37dc60",
   "metadata": {},
   "outputs": [
    {
     "data": {
      "text/plain": [
       "(array([12., 14.,  9., 13., 18.,  8.,  9.,  9., 11.,  8.,  2.,  3.,  8.,\n",
       "        11.,  9.,  3., 11.,  3.,  2.,  2.,  4.,  1.,  0.,  9.,  1.,  0.,\n",
       "         7.,  0.,  3.,  0.,  0.,  0.,  1.,  4.,  1.,  0.,  5.,  0.,  0.,\n",
       "         0.,  0.,  0.,  0.,  0.,  0.,  0.,  0.,  0.,  0.,  1.]),\n",
       " array([ 3460212.  ,  3716334.52,  3972457.04,  4228579.56,  4484702.08,\n",
       "         4740824.6 ,  4996947.12,  5253069.64,  5509192.16,  5765314.68,\n",
       "         6021437.2 ,  6277559.72,  6533682.24,  6789804.76,  7045927.28,\n",
       "         7302049.8 ,  7558172.32,  7814294.84,  8070417.36,  8326539.88,\n",
       "         8582662.4 ,  8838784.92,  9094907.44,  9351029.96,  9607152.48,\n",
       "         9863275.  , 10119397.52, 10375520.04, 10631642.56, 10887765.08,\n",
       "        11143887.6 , 11400010.12, 11656132.64, 11912255.16, 12168377.68,\n",
       "        12424500.2 , 12680622.72, 12936745.24, 13192867.76, 13448990.28,\n",
       "        13705112.8 , 13961235.32, 14217357.84, 14473480.36, 14729602.88,\n",
       "        14985725.4 , 15241847.92, 15497970.44, 15754092.96, 16010215.48,\n",
       "        16266338.  ]),\n",
       " <BarContainer object of 50 artists>)"
      ]
     },
     "execution_count": 82,
     "metadata": {},
     "output_type": "execute_result"
    },
    {
     "data": {
      "image/png": "[encoded data removed]",
      "text/plain": [
       "<Figure size 640x480 with 1 Axes>"
      ]
     },
     "metadata": {},
     "output_type": "display_data"
    }
   ],
   "source": [
    "plt.hist(sample4[\"Audi_y\"], bins=50)"
   ]
  },
  {
   "cell_type": "markdown",
   "id": "438acdab",
   "metadata": {},
   "source": [
    "#### 샘플링을 통한 정규분포 확인"
   ]
  },
  {
   "cell_type": "code",
   "execution_count": 83,
   "id": "df5e7cf3",
   "metadata": {},
   "outputs": [],
   "source": [
    "np.random.seed(42)\n",
    "sample_means2 = []\n",
    "for _ in range(1000):\n",
    "    m = sample4[\"Audi_y\"].sample(30).mean()\n",
    "    sample_means2.append(m)"
   ]
  },
  {
   "cell_type": "code",
   "execution_count": 84,
   "id": "f7f7ad2e",
   "metadata": {},
   "outputs": [
    {
     "data": {
      "text/plain": [
       "(array([ 3.,  7.,  6., 14.,  8., 29., 41., 51., 63., 70., 60., 58., 79.,\n",
       "        76., 60., 85., 66., 61., 41., 35., 22., 15., 20., 11.,  9.,  4.,\n",
       "         2.,  2.,  0.,  2.]),\n",
       " array([5302016.33333333, 5387197.45222222, 5472378.57111111,\n",
       "        5557559.69      , 5642740.80888889, 5727921.92777778,\n",
       "        5813103.04666667, 5898284.16555556, 5983465.28444444,\n",
       "        6068646.40333333, 6153827.52222222, 6239008.64111111,\n",
       "        6324189.76      , 6409370.87888889, 6494551.99777778,\n",
       "        6579733.11666667, 6664914.23555556, 6750095.35444444,\n",
       "        6835276.47333333, 6920457.59222222, 7005638.71111111,\n",
       "        7090819.83      , 7176000.94888889, 7261182.06777778,\n",
       "        7346363.18666667, 7431544.30555556, 7516725.42444444,\n",
       "        7601906.54333333, 7687087.66222222, 7772268.78111111,\n",
       "        7857449.9       ]),\n",
       " <BarContainer object of 30 artists>)"
      ]
     },
     "execution_count": 84,
     "metadata": {},
     "output_type": "execute_result"
    },
    {
     "data": {
      "image/png": "[encoded data removed]",
      "text/plain": [
       "<Figure size 640x480 with 1 Axes>"
      ]
     },
     "metadata": {},
     "output_type": "display_data"
    }
   ],
   "source": [
    "plt.hist(sample_means2, bins = 30)"
   ]
  },
  {
   "cell_type": "markdown",
   "id": "800f66d6",
   "metadata": {},
   "source": [
    "#### 샘플링의 크기와 정확도 테스트\n",
    "\n",
    "- 샘플링의 평균값과 sample4[\"Audi_y\"]의 평균값 비교\n",
    "- 사실 Audi_y는 Audi_x에서 값을 가져왔기 때문에 비슷할 수 밖에 없다"
   ]
  },
  {
   "cell_type": "code",
   "execution_count": 85,
   "id": "e0bbb3b7",
   "metadata": {},
   "outputs": [
    {
     "data": {
      "text/plain": [
       "6425722.2435"
      ]
     },
     "execution_count": 85,
     "metadata": {},
     "output_type": "execute_result"
    }
   ],
   "source": [
    "np.mean(sample_means2)"
   ]
  },
  {
   "cell_type": "code",
   "execution_count": 86,
   "id": "0197374b",
   "metadata": {},
   "outputs": [
    {
     "data": {
      "text/plain": [
       "6429580.029702971"
      ]
     },
     "execution_count": 86,
     "metadata": {},
     "output_type": "execute_result"
    }
   ],
   "source": [
    "sample4[\"Audi_y\"].mean()"
   ]
  },
  {
   "cell_type": "markdown",
   "id": "12c34b58",
   "metadata": {},
   "source": [
    "## 가설 검정\n",
    "\n",
    "- 귀무가설 : 표본 사이에 통계적으로 의미가 없다고 예상되는 가설\n",
    "- 대립가설 : 표본 사이에 통계적인 차이가 있다는 가설"
   ]
  },
  {
   "cell_type": "code",
   "execution_count": 87,
   "id": "6a48855d",
   "metadata": {},
   "outputs": [],
   "source": [
    "from scipy import stats"
   ]
  },
  {
   "cell_type": "code",
   "execution_count": 90,
   "id": "8ffd3cef",
   "metadata": {},
   "outputs": [
    {
     "name": "stdout",
     "output_type": "stream",
     "text": [
      "6.062865130721037e-07 0.9999995165540954\n"
     ]
    }
   ],
   "source": [
    "t, pvalue = stats.ttest_ind(sample4[\"Audi_x\"], sample4[\"Audi_y\"])\n",
    "print(t, pvalue)"
   ]
  },
  {
   "cell_type": "markdown",
   "id": "ad552d84",
   "metadata": {},
   "source": [
    "### pvalue가 0.999이므로 귀무가설을 기각한다\n",
    "\n",
    "### 평균관람객수와 누적관람객수는 관계가 크다"
   ]
  },
  {
   "cell_type": "markdown",
   "id": "29d9a1c3",
   "metadata": {},
   "source": [
    "### 만약 정규분포가 아니라면???\n",
    "\n",
    "- 순열 검정 : 모집단의 분포가 정규분포를 따르지 않거나 모집단의 분포를 알 수 없을 때 사용하는 방법\n",
    "- 모집단의 파라미터를 추정하지 않기 때문에 비모수검정 방법중에 하나"
   ]
  },
  {
   "cell_type": "code",
   "execution_count": 98,
   "id": "564c9006",
   "metadata": {},
   "outputs": [],
   "source": [
    "res = stats.permutation_test((sample4[\"Audi_x\"], sample4[\"Audi_y\"]), statistic, random_state=42)"
   ]
  },
  {
   "cell_type": "code",
   "execution_count": 99,
   "id": "f0540b66",
   "metadata": {},
   "outputs": [
    {
     "name": "stdout",
     "output_type": "stream",
     "text": [
      "0.16336633637547493 0.9912\n"
     ]
    }
   ],
   "source": [
    "print(res.statistic, res.pvalue)"
   ]
  },
  {
   "cell_type": "markdown",
   "id": "71f423bd",
   "metadata": {},
   "source": [
    "### pvalue가 0.999이므로 귀무가설을 기각한다.\n",
    "\n",
    "### 평균관람객수와 누적관람객수는 관계가 크다"
   ]
  },
  {
   "cell_type": "code",
   "execution_count": null,
   "id": "e747662b",
   "metadata": {},
   "outputs": [],
   "source": []
  },
  {
   "cell_type": "code",
   "execution_count": 103,
   "id": "1f1ed63a",
   "metadata": {},
   "outputs": [],
   "source": [
    "# 순위와 누적관람객수 or 순위와 평균관람객수의 차이는 상담필요"
   ]
  },
  {
   "cell_type": "code",
   "execution_count": null,
   "id": "b82ba6a7",
   "metadata": {},
   "outputs": [],
   "source": []
  }
 ],
 "metadata": {
  "kernelspec": {
   "display_name": "Python 3 (ipykernel)",
   "language": "python",
   "name": "python3"
  },
  "language_info": {
   "codemirror_mode": {
    "name": "ipython",
    "version": 3
   },
   "file_extension": ".py",
   "mimetype": "text/x-python",
   "name": "python",
   "nbconvert_exporter": "python",
   "pygments_lexer": "ipython3",
   "version": "3.9.13"
  }
 },
 "nbformat": 4,
 "nbformat_minor": 5
}
