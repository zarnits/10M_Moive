{
 "cells": [
  {
   "cell_type": "code",
   "execution_count": 1,
   "id": "fa484486",
   "metadata": {},
   "outputs": [],
   "source": [
    "from tqdm.notebook import tqdm\n",
    "from selenium import webdriver\n",
    "from selenium.webdriver.common.by import By\n",
    "from selenium.webdriver.common.keys import Keys\n",
    "from webdriver_manager.chrome import ChromeDriverManager\n",
    "from selenium.webdriver.chrome.service import Service\n",
    "from selenium.webdriver.support.ui import WebDriverWait\n",
    "from selenium.webdriver.support import expected_conditions as EC\n",
    "from selenium.webdriver.common.alert import Alert"
   ]
  },
  {
   "cell_type": "code",
   "execution_count": 2,
   "id": "bef76e30",
   "metadata": {},
   "outputs": [
    {
     "name": "stdout",
     "output_type": "stream",
     "text": [
      "Converting C:\\Users\\acorn\\Downloads\\2016년_전국_4대_브랜드별_멀티플렉스_현황_.xls to C:\\xlsx\\2016년_전국_4대_브랜드별_멀티플렉스_현황_.xlsx\n"
     ]
    },
    {
     "ename": "com_error",
     "evalue": "(-2147352567, '예외가 발생했습니다.', (0, 'Microsoft Office Excel', \"'C:\\\\xlsx\\\\31B24600' 파일을 사용할 수 없습니다. 원인은 다음과 같습니다.\\n\\n• 해당 파일 이름이나 경로가 없습니다.\\n• 다른 프로그램에서 파일을 사용하고 있습니다.\\n• 저장하려고 하는 통합 문서 이름이 현재 열려 있는 통합 문서의 이름과 같습니다.\", 'C:\\\\Program Files (x86)\\\\Microsoft Office\\\\Office12\\\\1042\\\\XLMAIN11.CHM', 0, -2146827284), None)",
     "output_type": "error",
     "traceback": [
      "\u001b[1;31m---------------------------------------------------------------------------\u001b[0m",
      "\u001b[1;31mcom_error\u001b[0m                                 Traceback (most recent call last)",
      "\u001b[1;32m~\\AppData\\Local\\Temp\\ipykernel_7232\\2556060040.py\u001b[0m in \u001b[0;36m<module>\u001b[1;34m\u001b[0m\n\u001b[0;32m     25\u001b[0m \u001b[1;33m\u001b[0m\u001b[0m\n\u001b[0;32m     26\u001b[0m         \u001b[0mprint\u001b[0m\u001b[1;33m(\u001b[0m\u001b[1;34mf\"Converting {input_file_path} to {output_file_path}\"\u001b[0m\u001b[1;33m)\u001b[0m\u001b[1;33m\u001b[0m\u001b[1;33m\u001b[0m\u001b[0m\n\u001b[1;32m---> 27\u001b[1;33m         \u001b[0mconvert_xls_to_xlsx\u001b[0m\u001b[1;33m(\u001b[0m\u001b[0minput_file_path\u001b[0m\u001b[1;33m,\u001b[0m \u001b[0moutput_file_path\u001b[0m\u001b[1;33m)\u001b[0m\u001b[1;33m\u001b[0m\u001b[1;33m\u001b[0m\u001b[0m\n\u001b[0m\u001b[0;32m     28\u001b[0m         \u001b[0mprint\u001b[0m\u001b[1;33m(\u001b[0m\u001b[1;34mf\"Conversion complete for {output_file_path}\"\u001b[0m\u001b[1;33m)\u001b[0m\u001b[1;33m\u001b[0m\u001b[1;33m\u001b[0m\u001b[0m\n",
      "\u001b[1;32m~\\AppData\\Local\\Temp\\ipykernel_7232\\2556060040.py\u001b[0m in \u001b[0;36mconvert_xls_to_xlsx\u001b[1;34m(xls_file_path, xlsx_file_path)\u001b[0m\n\u001b[0;32m      9\u001b[0m     \u001b[0mexcel\u001b[0m\u001b[1;33m.\u001b[0m\u001b[0mDisplayAlerts\u001b[0m \u001b[1;33m=\u001b[0m \u001b[1;32mFalse\u001b[0m\u001b[1;33m\u001b[0m\u001b[1;33m\u001b[0m\u001b[0m\n\u001b[0;32m     10\u001b[0m     \u001b[0mwb\u001b[0m \u001b[1;33m=\u001b[0m \u001b[0mexcel\u001b[0m\u001b[1;33m.\u001b[0m\u001b[0mWorkbooks\u001b[0m\u001b[1;33m.\u001b[0m\u001b[0mOpen\u001b[0m\u001b[1;33m(\u001b[0m\u001b[0mxls_file_path\u001b[0m\u001b[1;33m)\u001b[0m\u001b[1;33m\u001b[0m\u001b[1;33m\u001b[0m\u001b[0m\n\u001b[1;32m---> 11\u001b[1;33m     \u001b[0mwb\u001b[0m\u001b[1;33m.\u001b[0m\u001b[0mSaveAs\u001b[0m\u001b[1;33m(\u001b[0m\u001b[0mxlsx_file_path\u001b[0m\u001b[1;33m,\u001b[0m \u001b[0mFileFormat\u001b[0m\u001b[1;33m=\u001b[0m\u001b[1;36m51\u001b[0m\u001b[1;33m)\u001b[0m  \u001b[1;31m# FileFormat=51 corresponds to .xlsx\u001b[0m\u001b[1;33m\u001b[0m\u001b[1;33m\u001b[0m\u001b[0m\n\u001b[0m\u001b[0;32m     12\u001b[0m     \u001b[0mwb\u001b[0m\u001b[1;33m.\u001b[0m\u001b[0mClose\u001b[0m\u001b[1;33m(\u001b[0m\u001b[1;33m)\u001b[0m\u001b[1;33m\u001b[0m\u001b[1;33m\u001b[0m\u001b[0m\n\u001b[0;32m     13\u001b[0m     \u001b[0mexcel\u001b[0m\u001b[1;33m.\u001b[0m\u001b[0mQuit\u001b[0m\u001b[1;33m(\u001b[0m\u001b[1;33m)\u001b[0m\u001b[1;33m\u001b[0m\u001b[1;33m\u001b[0m\u001b[0m\n",
      "\u001b[1;32m~\\anaconda3\\lib\\site-packages\\win32com\\client\\dynamic.py\u001b[0m in \u001b[0;36mSaveAs\u001b[1;34m(self, Filename, FileFormat, Password, WriteResPassword, ReadOnlyRecommended, CreateBackup, AccessMode, ConflictResolution, AddToMru, TextCodepage, TextVisualLayout, Local)\u001b[0m\n",
      "\u001b[1;31mcom_error\u001b[0m: (-2147352567, '예외가 발생했습니다.', (0, 'Microsoft Office Excel', \"'C:\\\\xlsx\\\\31B24600' 파일을 사용할 수 없습니다. 원인은 다음과 같습니다.\\n\\n• 해당 파일 이름이나 경로가 없습니다.\\n• 다른 프로그램에서 파일을 사용하고 있습니다.\\n• 저장하려고 하는 통합 문서 이름이 현재 열려 있는 통합 문서의 이름과 같습니다.\", 'C:\\\\Program Files (x86)\\\\Microsoft Office\\\\Office12\\\\1042\\\\XLMAIN11.CHM', 0, -2146827284), None)"
     ]
    }
   ],
   "source": [
    "import os\n",
    "import win32com.client as win32\n",
    "#pip install pypiwin32\n",
    "\n",
    "\n",
    "# 엑셀 변환 함수\n",
    "def convert_xls_to_xlsx(xls_file_path, xlsx_file_path):\n",
    "    excel = win32.Dispatch(\"Excel.Application\")\n",
    "    excel.DisplayAlerts = False\n",
    "    wb = excel.Workbooks.Open(xls_file_path)\n",
    "    wb.SaveAs(xlsx_file_path, FileFormat=51)  # FileFormat=51 corresponds to .xlsx\n",
    "    wb.Close()\n",
    "    excel.Quit()\n",
    "\n",
    "    \n",
    "input_folder = 'C:\\\\Users\\\\acorn\\\\Downloads'\n",
    "output_folder = 'C:\\\\xlsx'\n",
    "\n",
    "# 반복\n",
    "for file_name in os.listdir(input_folder):\n",
    "    if file_name.endswith('.xls'):\n",
    "        input_file_path = os.path.join(input_folder, file_name)\n",
    "        output_file_name = file_name.replace('.xls', '.xlsx')\n",
    "        output_file_path = os.path.join(output_folder, output_file_name)\n",
    "\n",
    "        print(f\"Converting {input_file_path} to {output_file_path}\")\n",
    "        convert_xls_to_xlsx(input_file_path, output_file_path)\n",
    "        print(f\"Conversion complete for {output_file_path}\")"
   ]
  },
  {
   "cell_type": "code",
   "execution_count": null,
   "id": "a0047336",
   "metadata": {},
   "outputs": [],
   "source": []
  }
 ],
 "metadata": {
  "kernelspec": {
   "display_name": "Python 3 (ipykernel)",
   "language": "python",
   "name": "python3"
  },
  "language_info": {
   "codemirror_mode": {
    "name": "ipython",
    "version": 3
   },
   "file_extension": ".py",
   "mimetype": "text/x-python",
   "name": "python",
   "nbconvert_exporter": "python",
   "pygments_lexer": "ipython3",
   "version": "3.9.13"
  }
 },
 "nbformat": 4,
 "nbformat_minor": 5
}
